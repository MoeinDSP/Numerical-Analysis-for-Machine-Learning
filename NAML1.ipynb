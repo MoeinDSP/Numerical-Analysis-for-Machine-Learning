{
  "nbformat": 4,
  "nbformat_minor": 0,
  "metadata": {
    "colab": {
      "provenance": [],
      "include_colab_link": true
    },
    "kernelspec": {
      "name": "python3",
      "display_name": "Python 3"
    },
    "language_info": {
      "name": "python"
    }
  },
  "cells": [
    {
      "cell_type": "markdown",
      "metadata": {
        "id": "view-in-github",
        "colab_type": "text"
      },
      "source": [
        "<a href=\"https://colab.research.google.com/github/MoeinDSP/Numerical-Analysis-for-Machine-Learning/blob/main/NAML1.ipynb\" target=\"_parent\"><img src=\"https://colab.research.google.com/assets/colab-badge.svg\" alt=\"Open In Colab\"/></a>"
      ]
    },
    {
      "cell_type": "markdown",
      "source": [
        "Moein Taherinezhad\n",
        "\n",
        "email: moein.taherinezhad@mail.polimi.it\n",
        "\n",
        "# Introduction to Python"
      ],
      "metadata": {
        "id": "sz93POM5ScAa"
      }
    },
    {
      "cell_type": "markdown",
      "source": [
        "Python is an interpreted language. For the pourposes of this course I suggest you to use either [Colab](https://colab.research.google.com/) or install [Anaconda](https://www.anaconda.com/).\n",
        "\n",
        "The approach we will adopt is based on the resolution of small problems and projects. In each project we will introduce some features of the language. The course will focus on the use of Python for managing data and for implementing mathematical algorithms.\n",
        "\n"
      ],
      "metadata": {
        "id": "OK1p_S0lJ78O"
      }
    },
    {
      "cell_type": "markdown",
      "source": [
        "## Project 1: Fahrenheit to Celsius"
      ],
      "metadata": {
        "id": "xDKqpMT3qxpN"
      }
    },
    {
      "cell_type": "markdown",
      "source": [
        "**Skills**:\n",
        "\n",
        "*   input from the command line\n",
        "*   casting (string to float)\n",
        "*   variable assignements\n",
        "*   simple math formulas\n",
        "*   print\n",
        "*   functions\n",
        "* importance of the indentation\n",
        "\n"
      ],
      "metadata": {
        "id": "Dy5bCjLoFfFm"
      }
    },
    {
      "cell_type": "markdown",
      "source": [
        "**Problem**: ask the user a temperature in Fahrenheit and print the corresponding Celsius value using the the formula\n",
        "$$\n",
        "^\\circ C = \\frac{5}{9}(^\\circ F - 32).\n",
        "$$"
      ],
      "metadata": {
        "id": "XGg8naNjq4h7"
      }
    },
    {
      "cell_type": "code",
      "execution_count": null,
      "metadata": {
        "id": "xyk5WoT2Jm0L"
      },
      "outputs": [],
      "source": [
        "# Ask the user the Fahrenheit temperarature. Notice that the input given by the\n",
        "# user is a string\n",
        "fahrenheit_string = input(\"Enter the temperature in Fahrenheit:\")\n",
        "# Convert the string to number (casting)\n",
        "fahrenheit = float(fahrenheit_string)\n",
        "# Use the conversion formula to find the Celsius temperature\n",
        "celsius = (fahrenheit - 32) * 5/9\n",
        "# Print the Celsius value\n",
        "print(celsius)"
      ]
    },
    {
      "cell_type": "markdown",
      "source": [
        "The problem with the implementation we have just seen is that if we want to perform multiple conversion we ha to re-run the cell. In order to have a tool that can be called many times in an easy way we can create a **function**: a function is defined by the keyword <code>def</code>. Let us see how we can change the implementation making use of the function concept."
      ],
      "metadata": {
        "id": "DQxHPLCftKD-"
      }
    },
    {
      "cell_type": "code",
      "source": [
        "# NOTE the indentation!\n",
        "def convert(s):   # Definition of the function with the input parameter(s)\n",
        " f = float(s)\n",
        " c = (f - 32) * 5/9\n",
        " return c      # Return the Celsius temperature"
      ],
      "metadata": {
        "id": "UHNaOVXDsDA5"
      },
      "execution_count": null,
      "outputs": []
    },
    {
      "cell_type": "markdown",
      "source": [
        "Let us now use the new defined function."
      ],
      "metadata": {
        "id": "mu0Cs0KQz4B3"
      }
    },
    {
      "cell_type": "code",
      "source": [
        "# Ask the user the Fahrenheit temperarature. Notice that the input given\n",
        "# by the user is a string\n",
        "fahrenheit_string = input(\"Enter the temperature in Fahrenheit:\")\n",
        "celsius = convert(fahrenheit_string) # Call the function\n",
        "print(celsius)"
      ],
      "metadata": {
        "id": "_nfGUAmEz_wG"
      },
      "execution_count": null,
      "outputs": []
    },
    {
      "cell_type": "markdown",
      "source": [
        "**Exercise 1** Write a Python function for converting from Kelvin to Fahrenheit. The formula is\n",
        "$$\n",
        "F = 1.8(K-273.15) + 32.\n",
        "$$"
      ],
      "metadata": {
        "id": "j1X_hzwAvqPN"
      }
    },
    {
      "cell_type": "code",
      "source": [
        "convert1(\"555\")"
      ],
      "metadata": {
        "id": "m2RxWTL_g8jk"
      },
      "execution_count": null,
      "outputs": []
    },
    {
      "cell_type": "code",
      "source": [
        "def convert1(s):   # Definition of the function with the input parameter(s)\n",
        " k = float(s)\n",
        " f = 1.8*(k-273.15)+32\n",
        " return f"
      ],
      "metadata": {
        "id": "Zu7FvxAFdB9J"
      },
      "execution_count": null,
      "outputs": []
    },
    {
      "cell_type": "code",
      "source": [
        "kelvin_string = input(\"Enter the temperature in Kelvin:\")\n",
        "farhenheit = convert1(kelvin_string) # Call the function\n",
        "print(\"The temperature in F is:\",farhenheit)"
      ],
      "metadata": {
        "id": "M1H9o8MLfxoj"
      },
      "execution_count": null,
      "outputs": []
    },
    {
      "cell_type": "markdown",
      "source": [
        "## Project 2: van der Waals equation"
      ],
      "metadata": {
        "id": "mYGJguvhnmY7"
      }
    },
    {
      "cell_type": "markdown",
      "source": [
        "The van der Waals equation of state is a modification of the ideal gas law and i takes into account also the molecular size and the molecular interaction forces. This equation can be written as\n",
        "$$\n",
        "\\left[P+a\\left(\\frac{n}{V}\\right)^2\\right]\\left(V-nb\\right)=nRT,\n",
        "$$\n",
        "where $P\\,[Pa]$ is the pressure, $V \\, [m^3]$ is the volume, $T [K]$ is the temperature, $n$ is the number of moles, $R=8,314 \\, [J / (mol ∙ K)] $ is the gas constant, finally $a [Pa \\, m^6/mol^2]$ and $b [m^3/mol]$ are the van der Waals coefficients characterizing different gases. In the following table values of $a$ and $b$ are reported for some gases.\n",
        "\n"
      ],
      "metadata": {
        "id": "xIytalRuqtmY"
      }
    },
    {
      "cell_type": "markdown",
      "source": [
        "Gas            |     a   | b\n",
        "---------------|---------|---------\n",
        "Helium         | 3.46e-3 | 23.71e-6\n",
        "Neon           | 2.12e-2 | 17.10e-6\n",
        "Hydrogen       | 2.45e-2 | 26.61e-6\n",
        "Carbon dioxide | 3.96e-1 | 42.69e-6\n",
        "Water vapor    | 5.47e-1 | 30.52e-6\n",
        "Oxygen         | 1.38e-1 | 31.86e-6"
      ],
      "metadata": {
        "id": "2soVgR7SZVwo"
      }
    },
    {
      "cell_type": "markdown",
      "source": [
        "**Skills**.\n",
        "*   Function with many input parameters\n",
        "* Help\n",
        "* Simple formatting\n",
        "*   Optional input arguments and default values\n",
        "* Positional and keyword arguments"
      ],
      "metadata": {
        "id": "Jw5-n_bHGZwZ"
      }
    },
    {
      "cell_type": "markdown",
      "source": [
        "**Problem**: write a Python function that computes the pressure given the temperature and the volume for a real gas. The input parameters of the function should be $T, V, n, a$ and $b$; the output is the pressure $P$."
      ],
      "metadata": {
        "id": "bLp-AmRHb_MY"
      }
    },
    {
      "cell_type": "code",
      "source": [
        "def vanderwaals(T,V,n,a,b):\n",
        "  R = 8.314\n",
        "  P = n*R*T/(V-n*b)-a*n**2/V**2\n",
        "  return P"
      ],
      "metadata": {
        "id": "-9nCGLb_qrdv"
      },
      "execution_count": null,
      "outputs": []
    },
    {
      "cell_type": "markdown",
      "source": [
        "Let us compute the pressure exerted by $1 \\, mol$ of $O_2$ confined in a volume of $0.001 \\, m^3$ at $T=273.15 \\, K$."
      ],
      "metadata": {
        "id": "D2l3qRPHe-ou"
      }
    },
    {
      "cell_type": "code",
      "source": [
        "P=vanderwaals(273.15,0.001,1,1.38e-1,31.86e-6)\n",
        "print(P)"
      ],
      "metadata": {
        "id": "82_fG8r5eW_e"
      },
      "execution_count": null,
      "outputs": []
    },
    {
      "cell_type": "markdown",
      "source": [
        "If you want to visualize the result in scientific notation you can use <code>format</code>. Let us see the help."
      ],
      "metadata": {
        "id": "iiLcgyC1sLUq"
      }
    },
    {
      "cell_type": "code",
      "source": [
        "help('FORMATTING')"
      ],
      "metadata": {
        "id": "cxUJk8H5s7su"
      },
      "execution_count": null,
      "outputs": []
    },
    {
      "cell_type": "code",
      "source": [
        "P_sn=\"{:e}\".format(P)\n",
        "print(P_sn)"
      ],
      "metadata": {
        "id": "qGQyDMqXqQti"
      },
      "execution_count": null,
      "outputs": []
    },
    {
      "cell_type": "markdown",
      "source": [
        "Let us now suppose we want to modify the previous function in such a way that, by default, $a$ and $b$ are assigned the values relative to the oxygen and the user con override these default values."
      ],
      "metadata": {
        "id": "yh1UkevPtCaY"
      }
    },
    {
      "cell_type": "code",
      "source": [
        "def vanderwaals1(T,V,n,a=1.38e-1,b=31.86e-6):\n",
        "  R = 8.314\n",
        "  P = n*R*T/(V-n*b)-a*n**2/V**2\n",
        "  return P"
      ],
      "metadata": {
        "id": "ufd1u0Kmtkeg"
      },
      "execution_count": null,
      "outputs": []
    },
    {
      "cell_type": "code",
      "source": [
        "P=vanderwaals1(273.15,0.001,1)\n",
        "print(\"{:e}\".format(P))"
      ],
      "metadata": {
        "id": "IMlAk_upt2Uz"
      },
      "execution_count": null,
      "outputs": []
    },
    {
      "cell_type": "markdown",
      "source": [
        "Now let us suppose we want to compute the pressure exerted by $1 \\, mol$  of  Helium confined in a volume of  $0.001\\,m^3$  at  $T=273.15 \\, K$."
      ],
      "metadata": {
        "id": "Oqqu2UKKuH9p"
      }
    },
    {
      "cell_type": "code",
      "source": [
        "P=vanderwaals1(273.15,0.001,1,a=3.46e-3,b=23.71e-6)\n",
        "print(\"{:e}\".format(P))"
      ],
      "metadata": {
        "id": "YWyFNNz6uFum"
      },
      "execution_count": null,
      "outputs": []
    },
    {
      "cell_type": "code",
      "source": [
        "P=vanderwaals1(273.15,b=23.71e-6,0.001,a=3.46e-3)\n",
        "print(\"{:e}\".format(P))"
      ],
      "metadata": {
        "id": "byTp-TEEvFia"
      },
      "execution_count": null,
      "outputs": []
    },
    {
      "cell_type": "code",
      "source": [
        "P=vanderwaals1(273.15,0.001,1,a=3.46e-3)\n",
        "print(\"{:e}\".format(P))"
      ],
      "metadata": {
        "id": "EVv9_mpUvLNG"
      },
      "execution_count": null,
      "outputs": []
    },
    {
      "cell_type": "code",
      "source": [
        "P=vanderwaals1(273.15,0.001,1,3.46e-3)\n",
        "print(\"{:e}\".format(P))"
      ],
      "metadata": {
        "id": "I8S3Bxs3nJfs"
      },
      "execution_count": null,
      "outputs": []
    },
    {
      "cell_type": "code",
      "source": [
        "P=vanderwaals1(273.15,0.001,1,b=3.46e-6)\n",
        "print(\"{:e}\".format(P))"
      ],
      "metadata": {
        "id": "5EK0rXULnF-9"
      },
      "execution_count": null,
      "outputs": []
    },
    {
      "cell_type": "code",
      "source": [
        "P=vanderwaals1(273.15,0.001,1,b=23.71e-6,a=3.46e-3,)\n",
        "print(\"{:e}\".format(P))"
      ],
      "metadata": {
        "id": "qHUQwAeFnle_"
      },
      "execution_count": null,
      "outputs": []
    },
    {
      "cell_type": "code",
      "source": [
        "P=vanderwaals1(273.15,0.001,b=23.71e-6,1,a=3.46e-3)\n",
        "print(\"{:e}\".format(P))"
      ],
      "metadata": {
        "id": "zYIX0lfvvXkA"
      },
      "execution_count": null,
      "outputs": []
    },
    {
      "cell_type": "markdown",
      "source": [
        "**Exercise 2** Write a Python function for computing the temperature given all the other parameters. The default values for $a$ and $b$ are the ones for the hydrogen."
      ],
      "metadata": {
        "id": "xL6E4uePwIkX"
      }
    },
    {
      "cell_type": "markdown",
      "source": [
        "## Project 3: area of a circle"
      ],
      "metadata": {
        "id": "bkJvxm9sw-GK"
      }
    },
    {
      "cell_type": "markdown",
      "source": [
        "**Skills**.\n",
        "* Module import\n",
        "* Shortcut name of a module\n",
        "* Use of a function belonging to an imported module\n",
        "* Power operator\n",
        "* Type function\n",
        "* Function with multiple output\n",
        "* Tuples and immutable objects\n",
        "* Access elements of a complex structure (tuple)\n",
        "* Understand error messages\n",
        "* Content of a module"
      ],
      "metadata": {
        "id": "GFicMZaeImLl"
      }
    },
    {
      "cell_type": "markdown",
      "source": [
        "**Problem.** Write a function to compute the length and the area of a circle of radius $r$."
      ],
      "metadata": {
        "id": "y3uTL2ylxC4J"
      }
    },
    {
      "cell_type": "code",
      "source": [
        "def circle1(r):\n",
        "  '''\n",
        "  Function that computes the length of a circle and its area\n",
        "  INPUT: r = radius\n",
        "  OUTPUT: L = length\n",
        "          A = area\n",
        "  '''\n",
        "  import math\n",
        "  L = 2*math.pi*r\n",
        "  A = math.pi*r**2\n",
        "  return L,A"
      ],
      "metadata": {
        "id": "ZAuUAeAeJnJw"
      },
      "execution_count": null,
      "outputs": []
    },
    {
      "cell_type": "code",
      "source": [
        "help(circle1)"
      ],
      "metadata": {
        "id": "JhCb6N7X74wf",
        "outputId": "20163d52-bb04-44e1-9ab2-55379e90cdcd",
        "colab": {
          "base_uri": "https://localhost:8080/"
        }
      },
      "execution_count": null,
      "outputs": [
        {
          "output_type": "stream",
          "name": "stdout",
          "text": [
            "Help on function circle1 in module __main__:\n",
            "\n",
            "circle1(r)\n",
            "    Function that computes the length of a circle and its area\n",
            "    INPUT: r = radius\n",
            "    OUTPUT: L = length\n",
            "            A = area\n",
            "\n"
          ]
        }
      ]
    },
    {
      "cell_type": "markdown",
      "source": [
        "Let us test our function using $r=3$."
      ],
      "metadata": {
        "id": "gfkL4kE7xqMk"
      }
    },
    {
      "cell_type": "code",
      "source": [
        "circle1(3)"
      ],
      "metadata": {
        "colab": {
          "base_uri": "https://localhost:8080/"
        },
        "id": "tBnydK33Jxoj",
        "outputId": "6e1851fb-faa4-46c0-edff-7788cc7e92ef"
      },
      "execution_count": null,
      "outputs": [
        {
          "output_type": "execute_result",
          "data": {
            "text/plain": [
              "(18.84955592153876, 28.274333882308138)"
            ]
          },
          "metadata": {},
          "execution_count": 4
        }
      ]
    },
    {
      "cell_type": "code",
      "source": [
        "R=circle1(5)"
      ],
      "metadata": {
        "id": "V06RL9PKu8M5"
      },
      "execution_count": null,
      "outputs": []
    },
    {
      "cell_type": "code",
      "source": [
        "R"
      ],
      "metadata": {
        "colab": {
          "base_uri": "https://localhost:8080/"
        },
        "id": "KnrfXuimTQNM",
        "outputId": "b21fa6ad-3caf-418f-c91b-0e48cbf19290"
      },
      "execution_count": null,
      "outputs": [
        {
          "output_type": "execute_result",
          "data": {
            "text/plain": [
              "(31.41592653589793, 78.53981633974483)"
            ]
          },
          "metadata": {},
          "execution_count": 6
        }
      ]
    },
    {
      "cell_type": "code",
      "source": [
        "R[1]=55"
      ],
      "metadata": {
        "colab": {
          "base_uri": "https://localhost:8080/",
          "height": 143
        },
        "id": "IwQGKVBg9L7f",
        "outputId": "4fa68253-4d1b-4b80-c51c-785df5a456f4"
      },
      "execution_count": null,
      "outputs": [
        {
          "output_type": "error",
          "ename": "TypeError",
          "evalue": "'tuple' object does not support item assignment",
          "traceback": [
            "\u001b[0;31m---------------------------------------------------------------------------\u001b[0m",
            "\u001b[0;31mTypeError\u001b[0m                                 Traceback (most recent call last)",
            "\u001b[0;32m<ipython-input-8-1e44c57b3ec6>\u001b[0m in \u001b[0;36m<cell line: 1>\u001b[0;34m()\u001b[0m\n\u001b[0;32m----> 1\u001b[0;31m \u001b[0mR\u001b[0m\u001b[0;34m[\u001b[0m\u001b[0;36m1\u001b[0m\u001b[0;34m]\u001b[0m\u001b[0;34m=\u001b[0m\u001b[0;36m55\u001b[0m\u001b[0;34m\u001b[0m\u001b[0;34m\u001b[0m\u001b[0m\n\u001b[0m",
            "\u001b[0;31mTypeError\u001b[0m: 'tuple' object does not support item assignment"
          ]
        }
      ]
    },
    {
      "cell_type": "code",
      "source": [
        "print(R)"
      ],
      "metadata": {
        "id": "g0YjLhRVvFjl"
      },
      "execution_count": null,
      "outputs": []
    },
    {
      "cell_type": "code",
      "source": [
        "type(R)"
      ],
      "metadata": {
        "colab": {
          "base_uri": "https://localhost:8080/"
        },
        "id": "5sTVK0XnvI3F",
        "outputId": "a1124735-4e4f-491c-d908-1bb2e7c13ea4"
      },
      "execution_count": null,
      "outputs": [
        {
          "output_type": "execute_result",
          "data": {
            "text/plain": [
              "tuple"
            ]
          },
          "metadata": {},
          "execution_count": 9
        }
      ]
    },
    {
      "cell_type": "code",
      "source": [
        "AA = R[1]\n",
        "print(AA)"
      ],
      "metadata": {
        "colab": {
          "base_uri": "https://localhost:8080/"
        },
        "id": "pdtubXTT7EW9",
        "outputId": "77a7813e-f128-4b46-b3e9-447daf1c0df9"
      },
      "execution_count": null,
      "outputs": [
        {
          "output_type": "stream",
          "name": "stdout",
          "text": [
            "78.53981633974483\n"
          ]
        }
      ]
    },
    {
      "cell_type": "markdown",
      "source": [
        "In many cases (most of the times) the names of imported modules are quite long so a shortcut can be used. Let us see an example."
      ],
      "metadata": {
        "id": "dh2D-MgyJ5Uw"
      }
    },
    {
      "cell_type": "code",
      "source": [
        "def circle2(r):\n",
        "  import math as mt\n",
        "  L = 2*mt.pi*r\n",
        "  A = mt.pi*r**2\n",
        "  return L,A"
      ],
      "metadata": {
        "id": "bX9TGxR4xCRy"
      },
      "execution_count": null,
      "outputs": []
    },
    {
      "cell_type": "code",
      "source": [
        "L,A = circle2(3)\n",
        "print(L,A)\n",
        "print(circle2(3))"
      ],
      "metadata": {
        "id": "vkuKfucPxm4F"
      },
      "execution_count": null,
      "outputs": []
    },
    {
      "cell_type": "code",
      "source": [
        "_ , A2 =circle2(4)"
      ],
      "metadata": {
        "id": "pp56TfYIy5Vh"
      },
      "execution_count": null,
      "outputs": []
    },
    {
      "cell_type": "code",
      "source": [
        "A2"
      ],
      "metadata": {
        "colab": {
          "base_uri": "https://localhost:8080/"
        },
        "id": "pDwfZmDjyh8Z",
        "outputId": "577ac90f-1f8d-4a03-a021-853ae69cb28c"
      },
      "execution_count": null,
      "outputs": [
        {
          "output_type": "execute_result",
          "data": {
            "text/plain": [
              "50.26548245743669"
            ]
          },
          "metadata": {},
          "execution_count": 13
        }
      ]
    },
    {
      "cell_type": "code",
      "source": [
        "D = circle1(3)\n",
        "print(D)"
      ],
      "metadata": {
        "id": "SYmgXEugxySJ",
        "colab": {
          "base_uri": "https://localhost:8080/"
        },
        "outputId": "36fba223-a3a8-488a-a329-e1d3ad09d879"
      },
      "execution_count": null,
      "outputs": [
        {
          "output_type": "stream",
          "name": "stdout",
          "text": [
            "(18.84955592153876, 28.274333882308138)\n"
          ]
        }
      ]
    },
    {
      "cell_type": "code",
      "source": [
        "help(type)"
      ],
      "metadata": {
        "id": "b5c2ok1qJWOq"
      },
      "execution_count": null,
      "outputs": []
    },
    {
      "cell_type": "code",
      "source": [
        "type(D)"
      ],
      "metadata": {
        "id": "rH--YadbyABe"
      },
      "execution_count": null,
      "outputs": []
    },
    {
      "cell_type": "code",
      "source": [
        "D[0]"
      ],
      "metadata": {
        "id": "u9wR-zD-yEuI"
      },
      "execution_count": null,
      "outputs": []
    },
    {
      "cell_type": "code",
      "source": [
        "D[1]"
      ],
      "metadata": {
        "id": "reaWP02syMRo"
      },
      "execution_count": null,
      "outputs": []
    },
    {
      "cell_type": "code",
      "source": [
        "D[2]"
      ],
      "metadata": {
        "id": "yZcmHrn_yOkF",
        "colab": {
          "base_uri": "https://localhost:8080/",
          "height": 143
        },
        "outputId": "fff62921-13ec-478d-efe5-c849a92382f6"
      },
      "execution_count": null,
      "outputs": [
        {
          "output_type": "error",
          "ename": "IndexError",
          "evalue": "tuple index out of range",
          "traceback": [
            "\u001b[0;31m---------------------------------------------------------------------------\u001b[0m",
            "\u001b[0;31mIndexError\u001b[0m                                Traceback (most recent call last)",
            "\u001b[0;32m<ipython-input-15-c93c71414c33>\u001b[0m in \u001b[0;36m<cell line: 1>\u001b[0;34m()\u001b[0m\n\u001b[0;32m----> 1\u001b[0;31m \u001b[0mD\u001b[0m\u001b[0;34m[\u001b[0m\u001b[0;36m2\u001b[0m\u001b[0;34m]\u001b[0m\u001b[0;34m\u001b[0m\u001b[0;34m\u001b[0m\u001b[0m\n\u001b[0m",
            "\u001b[0;31mIndexError\u001b[0m: tuple index out of range"
          ]
        }
      ]
    },
    {
      "cell_type": "code",
      "source": [
        "D[1]=3"
      ],
      "metadata": {
        "id": "08OedEVUyRB9"
      },
      "execution_count": null,
      "outputs": []
    },
    {
      "cell_type": "markdown",
      "source": [
        "**Exercise 3.** Write a Python function that computes the lengths of the edges $b$ and $c$ of a right triangle given the length of the hypotenuse $a$ and the amplitude of one the angle $\\gamma$ (see the following figure).\n",
        "\n",
        "*Hint*: the function <code>sin</code> and <code>cos</code> belong to the <code>math</code> module. Try <code>help(math)</code> to see the content of the module!\n",
        "\n",
        "$$\n",
        "c=a\\sin(\\gamma)\n",
        "$$\n",
        "$$\n",
        "b=a\\cos(\\gamma)\n",
        "$$\n",
        "\n",
        "![triaes01_rapp4.png](data:image/png;base64,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)"
      ],
      "metadata": {
        "id": "fBmLB4le0ajm"
      }
    },
    {
      "cell_type": "code",
      "source": [
        "temp = '1234567890'"
      ],
      "metadata": {
        "id": "c9vw2aqv-QxA"
      },
      "execution_count": null,
      "outputs": []
    },
    {
      "cell_type": "code",
      "source": [
        "temp[0:4]"
      ],
      "metadata": {
        "id": "RQ5lLIej-Vjf"
      },
      "execution_count": null,
      "outputs": []
    },
    {
      "cell_type": "code",
      "source": [
        "import math as mt\n",
        "dir(mt)"
      ],
      "metadata": {
        "colab": {
          "base_uri": "https://localhost:8080/"
        },
        "id": "i5ePJOPBdt1U",
        "outputId": "c6f24564-dbe1-4f31-b004-83fdeb525a32"
      },
      "execution_count": null,
      "outputs": [
        {
          "output_type": "execute_result",
          "data": {
            "text/plain": [
              "['__doc__',\n",
              " '__loader__',\n",
              " '__name__',\n",
              " '__package__',\n",
              " '__spec__',\n",
              " 'acos',\n",
              " 'acosh',\n",
              " 'asin',\n",
              " 'asinh',\n",
              " 'atan',\n",
              " 'atan2',\n",
              " 'atanh',\n",
              " 'ceil',\n",
              " 'comb',\n",
              " 'copysign',\n",
              " 'cos',\n",
              " 'cosh',\n",
              " 'degrees',\n",
              " 'dist',\n",
              " 'e',\n",
              " 'erf',\n",
              " 'erfc',\n",
              " 'exp',\n",
              " 'expm1',\n",
              " 'fabs',\n",
              " 'factorial',\n",
              " 'floor',\n",
              " 'fmod',\n",
              " 'frexp',\n",
              " 'fsum',\n",
              " 'gamma',\n",
              " 'gcd',\n",
              " 'hypot',\n",
              " 'inf',\n",
              " 'isclose',\n",
              " 'isfinite',\n",
              " 'isinf',\n",
              " 'isnan',\n",
              " 'isqrt',\n",
              " 'lcm',\n",
              " 'ldexp',\n",
              " 'lgamma',\n",
              " 'log',\n",
              " 'log10',\n",
              " 'log1p',\n",
              " 'log2',\n",
              " 'modf',\n",
              " 'nan',\n",
              " 'nextafter',\n",
              " 'perm',\n",
              " 'pi',\n",
              " 'pow',\n",
              " 'prod',\n",
              " 'radians',\n",
              " 'remainder',\n",
              " 'sin',\n",
              " 'sinh',\n",
              " 'sqrt',\n",
              " 'tan',\n",
              " 'tanh',\n",
              " 'tau',\n",
              " 'trunc',\n",
              " 'ulp']"
            ]
          },
          "metadata": {},
          "execution_count": 21
        }
      ]
    },
    {
      "cell_type": "code",
      "source": [
        "help(mt.log10)"
      ],
      "metadata": {
        "colab": {
          "base_uri": "https://localhost:8080/"
        },
        "id": "QR-WE5lAeAtW",
        "outputId": "b311b80b-e487-49c0-81e1-63b67ecabe91"
      },
      "execution_count": null,
      "outputs": [
        {
          "output_type": "stream",
          "name": "stdout",
          "text": [
            "Help on built-in function log10 in module math:\n",
            "\n",
            "log10(x, /)\n",
            "    Return the base 10 logarithm of x.\n",
            "\n"
          ]
        }
      ]
    },
    {
      "cell_type": "markdown",
      "source": [
        "## Project 4: temperature conversion revised"
      ],
      "metadata": {
        "id": "BDmLU21LM1Zy"
      }
    },
    {
      "cell_type": "markdown",
      "source": [
        "**Skills:**\n",
        "* docstring\n",
        "* string definition\n",
        "* string slicing and indices\n",
        "* <code>if, elif</code> statement\n",
        "* logical operator <code>==</code>\n"
      ],
      "metadata": {
        "id": "dadQ2AX6UiuE"
      }
    },
    {
      "cell_type": "markdown",
      "source": [
        "**Project**. We want to write a function that is able to perform conversion from Farheneit to Kelvin and viceversa."
      ],
      "metadata": {
        "id": "NsdYnmmqNONz"
      }
    },
    {
      "cell_type": "code",
      "source": [
        "def convtemp(temp):       # temp is a string of the form '10K' or '10F'\n",
        "  '''\n",
        "  Function to convert from Kelvin to Fahrenheit and viceversa\n",
        "  INPUT:\n",
        "    - temperature to be converted in the form of a string 'valueK|F'\n",
        "  OUTPUT:\n",
        "    - converted temperature\n",
        "  '''\n",
        "  temp_value = float(temp[0:-1])\n",
        "  temp_type = temp[-1]    # extract the last character of the string\n",
        "  #print(temp_value, type(temp_value))\n",
        "  #print(temp_type, type(temp_type))\n",
        "  if temp_type == 'K':\n",
        "    out_temp = 1.8*(temp_value - 273.15)+32\n",
        "  elif temp_type == 'F':\n",
        "    out_temp = (temp_value - 32)/1.8+273.15\n",
        "  return out_temp"
      ],
      "metadata": {
        "id": "P9NW5AjdyURc"
      },
      "execution_count": null,
      "outputs": []
    },
    {
      "cell_type": "code",
      "source": [
        "help(convtemp)"
      ],
      "metadata": {
        "id": "DzTrGlH8T7SD",
        "colab": {
          "base_uri": "https://localhost:8080/"
        },
        "outputId": "3381fa91-fb5d-4f6f-e2f8-5e89efa432cd"
      },
      "execution_count": null,
      "outputs": [
        {
          "output_type": "stream",
          "name": "stdout",
          "text": [
            "Help on function convtemp in module __main__:\n",
            "\n",
            "convtemp(temp)\n",
            "    Function to convert from Kelvin to Fahrenheit and viceversa\n",
            "    INPUT:\n",
            "      - temperature to be converted in the form of a string 'valueK|F'\n",
            "    OUTPUT:\n",
            "      - converted temperature\n",
            "\n"
          ]
        }
      ]
    },
    {
      "cell_type": "markdown",
      "source": [
        "A string is defined using single or double quotes."
      ],
      "metadata": {
        "id": "f51_mzz2TZS3"
      }
    },
    {
      "cell_type": "code",
      "source": [
        "tt=convtemp('-40F')"
      ],
      "metadata": {
        "id": "sOrtFuuvOeQf"
      },
      "execution_count": null,
      "outputs": []
    },
    {
      "cell_type": "code",
      "source": [
        "print(tt)"
      ],
      "metadata": {
        "id": "0LwkQ5BoOinW",
        "colab": {
          "base_uri": "https://localhost:8080/"
        },
        "outputId": "d75189ec-d1e5-4dbc-9e2d-709e19a90aa9"
      },
      "execution_count": null,
      "outputs": [
        {
          "output_type": "stream",
          "name": "stdout",
          "text": [
            "233.14999999999998\n"
          ]
        }
      ]
    },
    {
      "cell_type": "markdown",
      "source": [
        "**Exercise 4**. Extend the previuos function so that it can handle Kelvin, Fahrenheit and Celsius. You have to add an additional input parameter in order to specify the output format."
      ],
      "metadata": {
        "id": "R5roFAV0UHYQ"
      }
    },
    {
      "cell_type": "markdown",
      "source": [
        "## Project 4: computation of the machine epsilon"
      ],
      "metadata": {
        "id": "XEDWpCiWVc5o"
      }
    },
    {
      "cell_type": "markdown",
      "source": [
        "**Skills:**\n",
        "* while loop\n",
        "* logical operator <code>!=</code>"
      ],
      "metadata": {
        "id": "ITUbr9BDWLo-"
      }
    },
    {
      "cell_type": "markdown",
      "source": [
        "**Project.** Let us compute the machine epsilon `eps` using `while`. Remember that the definition of $\\epsilon$ is the smallest number such that $1\\neq 1+\\epsilon$."
      ],
      "metadata": {
        "id": "JirIXJKrVpbE"
      }
    },
    {
      "cell_type": "code",
      "source": [
        "e=1.0\n",
        "while (1+e!=1):\n",
        "    e=e/2\n",
        "\n",
        "    print(e)"
      ],
      "metadata": {
        "id": "CklWsIEpRLNF",
        "colab": {
          "base_uri": "https://localhost:8080/"
        },
        "outputId": "4ad9af26-e91b-45ce-af6f-dbb083b66e41"
      },
      "execution_count": null,
      "outputs": [
        {
          "output_type": "stream",
          "name": "stdout",
          "text": [
            "0.5\n",
            "0.25\n",
            "0.125\n",
            "0.0625\n",
            "0.03125\n",
            "0.015625\n",
            "0.0078125\n",
            "0.00390625\n",
            "0.001953125\n",
            "0.0009765625\n",
            "0.00048828125\n",
            "0.000244140625\n",
            "0.0001220703125\n",
            "6.103515625e-05\n",
            "3.0517578125e-05\n",
            "1.52587890625e-05\n",
            "7.62939453125e-06\n",
            "3.814697265625e-06\n",
            "1.9073486328125e-06\n",
            "9.5367431640625e-07\n",
            "4.76837158203125e-07\n",
            "2.384185791015625e-07\n",
            "1.1920928955078125e-07\n",
            "5.960464477539063e-08\n",
            "2.9802322387695312e-08\n",
            "1.4901161193847656e-08\n",
            "7.450580596923828e-09\n",
            "3.725290298461914e-09\n",
            "1.862645149230957e-09\n",
            "9.313225746154785e-10\n",
            "4.656612873077393e-10\n",
            "2.3283064365386963e-10\n",
            "1.1641532182693481e-10\n",
            "5.820766091346741e-11\n",
            "2.9103830456733704e-11\n",
            "1.4551915228366852e-11\n",
            "7.275957614183426e-12\n",
            "3.637978807091713e-12\n",
            "1.8189894035458565e-12\n",
            "9.094947017729282e-13\n",
            "4.547473508864641e-13\n",
            "2.2737367544323206e-13\n",
            "1.1368683772161603e-13\n",
            "5.684341886080802e-14\n",
            "2.842170943040401e-14\n",
            "1.4210854715202004e-14\n",
            "7.105427357601002e-15\n",
            "3.552713678800501e-15\n",
            "1.7763568394002505e-15\n",
            "8.881784197001252e-16\n",
            "4.440892098500626e-16\n",
            "2.220446049250313e-16\n",
            "1.1102230246251565e-16\n"
          ]
        }
      ]
    },
    {
      "cell_type": "code",
      "source": [
        "import numpy as np     # we will see numpy in a following lecture\n",
        "print(np.finfo(float).eps)"
      ],
      "metadata": {
        "id": "mkV88S-0WGOc",
        "colab": {
          "base_uri": "https://localhost:8080/"
        },
        "outputId": "f41906d3-9d64-4fe2-ff84-dbebf8d9abb4"
      },
      "execution_count": null,
      "outputs": [
        {
          "output_type": "stream",
          "name": "stdout",
          "text": [
            "2.220446049250313e-16\n"
          ]
        }
      ]
    },
    {
      "cell_type": "markdown",
      "source": [
        "## Project 5: conversion of a Roman number to decimal format"
      ],
      "metadata": {
        "id": "cMmUynPFYKeD"
      }
    },
    {
      "cell_type": "markdown",
      "source": [
        "**Skills:**\n",
        "* Dictionaries\n",
        "* <code>for</code> loop\n",
        "* <code>range</code> and <code>len</code> function\n",
        "* <code>-=, +=</code> operators\n",
        "* <code><</code> logical operator"
      ],
      "metadata": {
        "id": "QQbvO4diYc_K"
      }
    },
    {
      "cell_type": "markdown",
      "source": [
        "**Problem.** Write a Python function that converts a Roman number to decimal format."
      ],
      "metadata": {
        "id": "VWQ2DlCtYT7F"
      }
    },
    {
      "cell_type": "code",
      "source": [
        "help(range)"
      ],
      "metadata": {
        "colab": {
          "base_uri": "https://localhost:8080/"
        },
        "id": "hJg9HSbYiz7C",
        "outputId": "9711c99c-d568-47ef-eeb0-0fa599756dfd"
      },
      "execution_count": null,
      "outputs": [
        {
          "output_type": "stream",
          "name": "stdout",
          "text": [
            "Help on class range in module builtins:\n",
            "\n",
            "class range(object)\n",
            " |  range(stop) -> range object\n",
            " |  range(start, stop[, step]) -> range object\n",
            " |  \n",
            " |  Return an object that produces a sequence of integers from start (inclusive)\n",
            " |  to stop (exclusive) by step.  range(i, j) produces i, i+1, i+2, ..., j-1.\n",
            " |  start defaults to 0, and stop is omitted!  range(4) produces 0, 1, 2, 3.\n",
            " |  These are exactly the valid indices for a list of 4 elements.\n",
            " |  When step is given, it specifies the increment (or decrement).\n",
            " |  \n",
            " |  Methods defined here:\n",
            " |  \n",
            " |  __bool__(self, /)\n",
            " |      True if self else False\n",
            " |  \n",
            " |  __contains__(self, key, /)\n",
            " |      Return key in self.\n",
            " |  \n",
            " |  __eq__(self, value, /)\n",
            " |      Return self==value.\n",
            " |  \n",
            " |  __ge__(self, value, /)\n",
            " |      Return self>=value.\n",
            " |  \n",
            " |  __getattribute__(self, name, /)\n",
            " |      Return getattr(self, name).\n",
            " |  \n",
            " |  __getitem__(self, key, /)\n",
            " |      Return self[key].\n",
            " |  \n",
            " |  __gt__(self, value, /)\n",
            " |      Return self>value.\n",
            " |  \n",
            " |  __hash__(self, /)\n",
            " |      Return hash(self).\n",
            " |  \n",
            " |  __iter__(self, /)\n",
            " |      Implement iter(self).\n",
            " |  \n",
            " |  __le__(self, value, /)\n",
            " |      Return self<=value.\n",
            " |  \n",
            " |  __len__(self, /)\n",
            " |      Return len(self).\n",
            " |  \n",
            " |  __lt__(self, value, /)\n",
            " |      Return self<value.\n",
            " |  \n",
            " |  __ne__(self, value, /)\n",
            " |      Return self!=value.\n",
            " |  \n",
            " |  __reduce__(...)\n",
            " |      Helper for pickle.\n",
            " |  \n",
            " |  __repr__(self, /)\n",
            " |      Return repr(self).\n",
            " |  \n",
            " |  __reversed__(...)\n",
            " |      Return a reverse iterator.\n",
            " |  \n",
            " |  count(...)\n",
            " |      rangeobject.count(value) -> integer -- return number of occurrences of value\n",
            " |  \n",
            " |  index(...)\n",
            " |      rangeobject.index(value) -> integer -- return index of value.\n",
            " |      Raise ValueError if the value is not present.\n",
            " |  \n",
            " |  ----------------------------------------------------------------------\n",
            " |  Static methods defined here:\n",
            " |  \n",
            " |  __new__(*args, **kwargs) from builtins.type\n",
            " |      Create and return a new object.  See help(type) for accurate signature.\n",
            " |  \n",
            " |  ----------------------------------------------------------------------\n",
            " |  Data descriptors defined here:\n",
            " |  \n",
            " |  start\n",
            " |  \n",
            " |  step\n",
            " |  \n",
            " |  stop\n",
            "\n"
          ]
        }
      ]
    },
    {
      "cell_type": "code",
      "source": [
        "def Roman2Decimal(Roman):\n",
        "    symbols = {\n",
        "    'I': 1,\n",
        "    'V': 5,\n",
        "    'X': 10,\n",
        "    'L': 50,\n",
        "    'C': 100,\n",
        "    'D': 500,\n",
        "    'M': 1000\n",
        "    }\n",
        "    Decimal = 0\n",
        "    for i in range(len(Roman) - 1):\n",
        "        left = Roman[i]\n",
        "        right = Roman[i + 1]\n",
        "        if symbols[left] < symbols[right]:\n",
        "            Decimal -= symbols[left]\n",
        "        else:\n",
        "            Decimal += symbols[left]\n",
        "    Decimal += symbols[Roman[-1]]\n",
        "    return Decimal"
      ],
      "metadata": {
        "id": "_GvhSpQiWKRz"
      },
      "execution_count": null,
      "outputs": []
    },
    {
      "cell_type": "code",
      "source": [
        "Roman2Decimal('XCI')"
      ],
      "metadata": {
        "id": "5DVt4d2hXbwr",
        "colab": {
          "base_uri": "https://localhost:8080/"
        },
        "outputId": "c5d438a6-330d-49f9-f7dc-f719cb82962a"
      },
      "execution_count": null,
      "outputs": [
        {
          "output_type": "execute_result",
          "data": {
            "text/plain": [
              "91"
            ]
          },
          "metadata": {},
          "execution_count": 28
        }
      ]
    },
    {
      "cell_type": "code",
      "source": [
        "int(13/2)"
      ],
      "metadata": {
        "colab": {
          "base_uri": "https://localhost:8080/"
        },
        "id": "JB5Sf3f2kcl5",
        "outputId": "6f2766d2-d9e7-4339-b848-99af42fcadb4"
      },
      "execution_count": null,
      "outputs": [
        {
          "output_type": "execute_result",
          "data": {
            "text/plain": [
              "6"
            ]
          },
          "metadata": {},
          "execution_count": 30
        }
      ]
    },
    {
      "cell_type": "code",
      "source": [
        "13%2"
      ],
      "metadata": {
        "colab": {
          "base_uri": "https://localhost:8080/"
        },
        "id": "rS5S2OD4kjho",
        "outputId": "54d834d2-2e4e-42c7-d28e-b0d392ad09e2"
      },
      "execution_count": null,
      "outputs": [
        {
          "output_type": "execute_result",
          "data": {
            "text/plain": [
              "1"
            ]
          },
          "metadata": {},
          "execution_count": 31
        }
      ]
    },
    {
      "cell_type": "code",
      "source": [
        "a=[]\n",
        "a.append(6)"
      ],
      "metadata": {
        "id": "1BQojlLekvC4"
      },
      "execution_count": null,
      "outputs": []
    },
    {
      "cell_type": "code",
      "source": [
        "a"
      ],
      "metadata": {
        "colab": {
          "base_uri": "https://localhost:8080/"
        },
        "id": "JZoxgxfFk7fx",
        "outputId": "13b10819-1a2c-46e0-dd6d-54f65501c931"
      },
      "execution_count": null,
      "outputs": [
        {
          "output_type": "execute_result",
          "data": {
            "text/plain": [
              "[1, 2, 3, 4, 6]"
            ]
          },
          "metadata": {},
          "execution_count": 36
        }
      ]
    },
    {
      "cell_type": "code",
      "source": [
        "a+[7]"
      ],
      "metadata": {
        "colab": {
          "base_uri": "https://localhost:8080/"
        },
        "id": "byGjQnX6lCMH",
        "outputId": "565618a6-7a27-407d-9048-35346e809e48"
      },
      "execution_count": null,
      "outputs": [
        {
          "output_type": "execute_result",
          "data": {
            "text/plain": [
              "[1, 2, 3, 4, 6, 7]"
            ]
          },
          "metadata": {},
          "execution_count": 38
        }
      ]
    },
    {
      "cell_type": "markdown",
      "source": [
        "**Exercise.** Write a Python function that converts an integer to its binary format.\n",
        "\n",
        "*Hint:* Consider the following example where we want to convert $13$ to its binary format:\n",
        "\n",
        "$$\n",
        "13:2 = 6 \\textrm{ with remainder } 1 \\\\\n",
        " 6:2 = 3 \\textrm{ with remainder } 0 \\\\\n",
        " 3:2 = 1 \\textrm{ with remainder } 1 \\\\\n",
        " 1:2 = 0 \\textrm{ with remainder } 1,\n",
        "$$\n",
        "\n",
        "now let us take the remainders in reverse order *i.e.* $1101$, this is the binary format of $13$.\n",
        "\n",
        "The remainder of an integer division is obtained using the operator <code>%</code> and the integer part of the result of a division can be obtained using <code>int</code>. See the following examples:"
      ],
      "metadata": {
        "id": "w6QX4_DlBQjl"
      }
    },
    {
      "cell_type": "code",
      "source": [
        "7%2"
      ],
      "metadata": {
        "id": "DEdRkJV_XpRP"
      },
      "execution_count": null,
      "outputs": []
    },
    {
      "cell_type": "code",
      "source": [
        "int(7/2)"
      ],
      "metadata": {
        "id": "9UC7zP7JBXPN"
      },
      "execution_count": null,
      "outputs": []
    },
    {
      "cell_type": "markdown",
      "source": [
        "Morever you can add elements to a list by using the <code>append</code> method as follows:"
      ],
      "metadata": {
        "id": "oqFg72tIBfoM"
      }
    },
    {
      "cell_type": "code",
      "source": [
        "resti=[] # empty list\n",
        "resti.append(1) # add 1 to the end of the list\n",
        "resti"
      ],
      "metadata": {
        "id": "eaYslkxaBcpL"
      },
      "execution_count": null,
      "outputs": []
    },
    {
      "cell_type": "code",
      "source": [],
      "metadata": {
        "id": "OW9VRQxXB6ri"
      },
      "execution_count": null,
      "outputs": []
    }
  ]
}