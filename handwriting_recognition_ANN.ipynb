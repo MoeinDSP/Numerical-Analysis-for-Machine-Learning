{
 "cells": [
  {
   "cell_type": "markdown",
   "metadata": {
    "id": "4ky2ALT8aFZq"
   },
   "source": [
    "# Handwriting recognition\n"
   ]
  },
  {
   "cell_type": "code",
   "execution_count": null,
   "metadata": {
    "executionInfo": {
     "elapsed": 861,
     "status": "ok",
     "timestamp": 1671127675776,
     "user": {
      "displayName": "Francesco Regazzoni",
      "userId": "08593163129562527691"
     },
     "user_tz": -60
    },
    "id": "3uD05d77CfLv"
   },
   "outputs": [],
   "source": [
    "import numpy as np\n",
    "import matplotlib.pyplot as plt\n",
    "import jax.numpy as jnp\n",
    "import jax\n",
    "import time"
   ]
  },
  {
   "cell_type": "markdown",
   "metadata": {
    "id": "LWxlDFYZx31S"
   },
   "source": [
    "## Data import and visualization\n"
   ]
  },
  {
   "cell_type": "markdown",
   "metadata": {
    "id": "hRNhX9i6vwuT"
   },
   "source": [
    "Import the MNIST train dataset ([https://en.wikipedia.org/wiki/MNIST_database](https://en.wikipedia.org/wiki/MNIST_database))\n"
   ]
  },
  {
   "cell_type": "code",
   "execution_count": null,
   "metadata": {
    "colab": {
     "base_uri": "https://localhost:8080/"
    },
    "executionInfo": {
     "elapsed": 28648,
     "status": "ok",
     "timestamp": 1671127704421,
     "user": {
      "displayName": "Francesco Regazzoni",
      "userId": "08593163129562527691"
     },
     "user_tz": -60
    },
    "id": "Tb2dI5WU-2ji",
    "outputId": "d3e06508-739e-44e1-e424-430eb7f49f15"
   },
   "outputs": [],
   "source": [
    "# This dataset is contained in the sample data directory of Google Colab online runtimes\n",
    "data = np.genfromtxt(\"../mnist_train_small.csv\", delimiter=\",\")\n",
    "data.shape"
   ]
  },
  {
   "cell_type": "markdown",
   "metadata": {
    "id": "TtWMNidPv9y_"
   },
   "source": [
    "Store the data in a matrix and the labels in a vector.\n",
    "\n",
    "**REMARK**: in this lab we will work with features/classes on rows and samples on columns.\n"
   ]
  },
  {
   "cell_type": "code",
   "execution_count": null,
   "metadata": {
    "colab": {
     "base_uri": "https://localhost:8080/"
    },
    "executionInfo": {
     "elapsed": 5,
     "status": "ok",
     "timestamp": 1671127704421,
     "user": {
      "displayName": "Francesco Regazzoni",
      "userId": "08593163129562527691"
     },
     "user_tz": -60
    },
    "id": "yzGMpNrABkpe",
    "outputId": "dc3a2606-1700-493e-d696-3829741bbe08"
   },
   "outputs": [],
   "source": [
    "labels = data[:, 0]\n",
    "x_data = data[:, 1:].transpose() / 255\n",
    "labels.shape, x_data.shape"
   ]
  },
  {
   "cell_type": "markdown",
   "metadata": {
    "id": "-9AwDHzcwSx3"
   },
   "source": [
    "Visualize the first 30 pictures with the corresponding labels\n"
   ]
  },
  {
   "cell_type": "code",
   "execution_count": null,
   "metadata": {
    "colab": {
     "base_uri": "https://localhost:8080/",
     "height": 372
    },
    "executionInfo": {
     "elapsed": 1518,
     "status": "ok",
     "timestamp": 1671127705936,
     "user": {
      "displayName": "Francesco Regazzoni",
      "userId": "08593163129562527691"
     },
     "user_tz": -60
    },
    "id": "Nd6cnbmu_Gvv",
    "outputId": "6a02815d-3ff1-490e-e93c-33976477205e"
   },
   "outputs": [],
   "source": [
    "fig, axs = plt.subplots(ncols=10, nrows=3, figsize=(20, 6))\n",
    "axs = axs.reshape((-1,))\n",
    "for i in range(30):\n",
    "    image_i = x_data[:, i].reshape((28, 28))\n",
    "    axs[i].imshow(image_i, cmap=\"gray\")\n",
    "    axs[i].set_title(int(labels[i]))\n",
    "    axs[i].axis(\"off\")"
   ]
  },
  {
   "cell_type": "markdown",
   "metadata": {
    "id": "i8lATi3kOnBs"
   },
   "source": [
    "Create a [one-hot](https://en.wikipedia.org/wiki/One-hot) representation of the labels, that is a matrix where each row corresponds to a class (i.e. a digit).\n",
    "the entries of the matrix are 1 if the sample corresponds to that digit, 0 otherwise.\n"
   ]
  },
  {
   "cell_type": "code",
   "execution_count": null,
   "metadata": {
    "executionInfo": {
     "elapsed": 8,
     "status": "ok",
     "timestamp": 1671127705936,
     "user": {
      "displayName": "Francesco Regazzoni",
      "userId": "08593163129562527691"
     },
     "user_tz": -60
    },
    "id": "fvaLuITMCstt"
   },
   "outputs": [],
   "source": [
    "y_data = np.zeros((10, 20000))\n",
    "for i in range(10):\n",
    "    y_data[i, labels == i] = 1"
   ]
  },
  {
   "cell_type": "markdown",
   "metadata": {
    "id": "4ZGpB1VwSceh"
   },
   "source": [
    "Check that the matrix has exactly one element \"1\" in each column.\n"
   ]
  },
  {
   "cell_type": "code",
   "execution_count": null,
   "metadata": {
    "colab": {
     "base_uri": "https://localhost:8080/"
    },
    "executionInfo": {
     "elapsed": 8,
     "status": "ok",
     "timestamp": 1671127705937,
     "user": {
      "displayName": "Francesco Regazzoni",
      "userId": "08593163129562527691"
     },
     "user_tz": -60
    },
    "id": "Exa59aV0SYHq",
    "outputId": "d2a9add3-ee46-4e0f-e61a-e2f3f9bc42b0"
   },
   "outputs": [],
   "source": [
    "row_sums = np.sum(y_data, axis=0)\n",
    "row_sums.min(), row_sums.max()"
   ]
  },
  {
   "cell_type": "markdown",
   "metadata": {
    "id": "KDkeuzgpTonk"
   },
   "source": [
    "## ANN training\n",
    "\n",
    "Write a function to initialize the parameters (with Glorot Normal initialization) and a function implementing a feedforward ANN.\n",
    "\n",
    "To the last layer of the ANN, apply a _soft-max_ layer. If $z_1, \\dots, z_n$ are the activations of the last layer neurons, the soft-max layer produces $\\hat{z}_1, \\dots, \\hat{z}_n$, defined as\n",
    "\n",
    "$$\n",
    "\\hat{z}_i = \\frac{e^{z_i}}{\\sum_{j=1}^n e^{z_j}}\n",
    "$$\n",
    "\n",
    "In this manner the outputs of the ANN satisfy by construction:\n",
    "\n",
    "- $\\hat{z}_i \\in [0,1]$\n",
    "- $\\sum_{j=1}^n \\hat{z}_j = 1$\n",
    "\n",
    "Therefore, they can be intepreted as probabilities.\n",
    "\n",
    "When the ANN will be trained, we will take the digit corresponding the the hightest proabability as prediction of the model.\n"
   ]
  },
  {
   "cell_type": "code",
   "execution_count": null,
   "metadata": {
    "executionInfo": {
     "elapsed": 5,
     "status": "ok",
     "timestamp": 1671127705937,
     "user": {
      "displayName": "Francesco Regazzoni",
      "userId": "08593163129562527691"
     },
     "user_tz": -60
    },
    "id": "8j6cWbYdB-q_"
   },
   "outputs": [],
   "source": [
    "def initialize_params(layers_size):\n",
    "    np.random.seed(0)  # for reproducibility\n",
    "    params = list()\n",
    "    for i in range(len(layers_size) - 1):\n",
    "        W = np.random.randn(layers_size[i + 1], layers_size[i]) * np.sqrt(\n",
    "            2 / (layers_size[i + 1] + layers_size[i])\n",
    "        )\n",
    "        b = np.zeros((layers_size[i + 1], 1))\n",
    "        params.append(W)\n",
    "        params.append(b)\n",
    "    return params\n",
    "\n",
    "\n",
    "activation = jnp.tanh\n",
    "\n",
    "\n",
    "def ANN(x, params):\n",
    "    layer = x\n",
    "    num_layers = int(len(params) / 2 + 1)\n",
    "    weights = params[0::2]\n",
    "    biases = params[1::2]\n",
    "    for i in range(num_layers - 1):\n",
    "        layer = jnp.dot(weights[i], layer) - biases[i]\n",
    "        if i < num_layers - 2:\n",
    "            layer = activation(layer)\n",
    "    \n",
    "    # Exponentials of large numbers can grow extremely quickly, \n",
    "    # leading to numerical overflow when the input is large.\n",
    "    # The practical implementation of softmax is non-trivial\n",
    "    # thus, it is importarnt to use the jax function\n",
    "    layer = jax.nn.softmax(layer, axis=0)\n",
    "    return layer"
   ]
  },
  {
   "cell_type": "markdown",
   "metadata": {
    "id": "qwfvKVggVH0b"
   },
   "source": [
    "Test the ANN and check that the above properties are satisfied.\n"
   ]
  },
  {
   "cell_type": "code",
   "execution_count": null,
   "metadata": {
    "colab": {
     "base_uri": "https://localhost:8080/"
    },
    "executionInfo": {
     "elapsed": 965,
     "status": "ok",
     "timestamp": 1671127706897,
     "user": {
      "displayName": "Francesco Regazzoni",
      "userId": "08593163129562527691"
     },
     "user_tz": -60
    },
    "id": "5rXORM7zVHLu",
    "outputId": "6ed78ec0-3fc9-4f23-e01e-1725ed193d71"
   },
   "outputs": [],
   "source": [
    "params = initialize_params([784, 20, 10])\n",
    "y_predict = ANN(x_data, params)\n",
    "y_sum = jnp.sum(y_predict, axis=0)\n",
    "jnp.min(y_predict), jnp.max(y_predict), jnp.min(y_sum), jnp.max(y_sum)"
   ]
  },
  {
   "cell_type": "markdown",
   "metadata": {
    "id": "pMbemXuAU7gh"
   },
   "source": [
    "Implement the following metrics:\n",
    "\n",
    "- mean square error\n",
    "- cross entropy\n",
    "- accuracy (fraction of samples correctly classified)\n"
   ]
  },
  {
   "cell_type": "code",
   "execution_count": null,
   "metadata": {
    "colab": {
     "base_uri": "https://localhost:8080/"
    },
    "executionInfo": {
     "elapsed": 608,
     "status": "ok",
     "timestamp": 1671127707501,
     "user": {
      "displayName": "Francesco Regazzoni",
      "userId": "08593163129562527691"
     },
     "user_tz": -60
    },
    "id": "unwwqLQWU6d4",
    "outputId": "0ca78ef1-2e21-498f-ba4b-3625defc3312"
   },
   "outputs": [],
   "source": [
    "def MSE(x, y, params):\n",
    "    error = ANN(x, params) - y\n",
    "    return jnp.mean(error * error)\n",
    "\n",
    "\n",
    "def cross_entropy(x, y, params):\n",
    "    y_predict = ANN(x, params)\n",
    "    return -jnp.mean(jnp.sum(jnp.log(y_predict) * y, axis=0))\n",
    "\n",
    "\n",
    "def accuracy(x, y, params):\n",
    "    labels_predicted = jnp.argmax(ANN(x, params), axis=0)\n",
    "    labels = jnp.argmax(y, axis=0)\n",
    "    return jnp.mean(labels_predicted == labels)\n",
    "\n",
    "\n",
    "print(\"MSE:       %f\" % MSE(x_data, y_data, params))\n",
    "print(\"X entropy: %f\" % cross_entropy(x_data, y_data, params))\n",
    "print(\"accuracy:  %f\" % accuracy(x_data, y_data, params))"
   ]
  },
  {
   "cell_type": "markdown",
   "metadata": {
    "id": "dxPA1pV5X4Ml"
   },
   "source": [
    "Put 10000 images in the training set and 10000 images in the validation set.\n"
   ]
  },
  {
   "cell_type": "code",
   "execution_count": 70,
   "metadata": {
    "executionInfo": {
     "elapsed": 2,
     "status": "ok",
     "timestamp": 1671127707501,
     "user": {
      "displayName": "Francesco Regazzoni",
      "userId": "08593163129562527691"
     },
     "user_tz": -60
    },
    "id": "t1y2eTQKP0KI"
   },
   "outputs": [],
   "source": [
    "n_train = 10000\n",
    "n_valid = 10000\n",
    "\n",
    "idxs = np.random.permutation(20000)\n",
    "x_data = x_data[:, idxs]\n",
    "y_data = y_data[:, idxs]\n",
    "\n",
    "x_train = x_data[:, :n_train]\n",
    "y_train = y_data[:, :n_train]\n",
    "x_valid = x_data[:, -n_valid:]\n",
    "y_valid = y_data[:, -n_valid:]"
   ]
  },
  {
   "cell_type": "markdown",
   "metadata": {
    "id": "F-DzsGukYo2Q"
   },
   "source": [
    "Run this cell. We will use it later.\n"
   ]
  },
  {
   "cell_type": "code",
   "execution_count": null,
   "metadata": {
    "executionInfo": {
     "elapsed": 3,
     "status": "ok",
     "timestamp": 1671127707502,
     "user": {
      "displayName": "Francesco Regazzoni",
      "userId": "08593163129562527691"
     },
     "user_tz": -60
    },
    "id": "NrdFgazmQhVz"
   },
   "outputs": [],
   "source": [
    "from IPython import display\n",
    "\n",
    "\n",
    "class Callback:\n",
    "    def __init__(self, refresh_rate=250):\n",
    "        self.refresh_rate = refresh_rate\n",
    "        self.fig, self.axs = plt.subplots(1, figsize=(16, 8))\n",
    "        self.epoch = 0\n",
    "        self.__call__(-1)\n",
    "\n",
    "    def __call__(self, epoch):\n",
    "        self.epoch = epoch\n",
    "        if (epoch + 1) % self.refresh_rate == 0:\n",
    "            self.draw()\n",
    "            display.clear_output(wait=True)\n",
    "            display.display(plt.gcf())\n",
    "            time.sleep(1e-16)\n",
    "\n",
    "    def draw(self):\n",
    "        if self.epoch > 0:\n",
    "            self.axs.clear()\n",
    "            epochs = np.arange(1, len(history_train_Xen) + 1)\n",
    "            self.axs.loglog(epochs, history_train_Xen, label=\"train_Xen\")\n",
    "            self.axs.loglog(epochs, history_valid_Xen, label=\"valid_Xen\")\n",
    "            self.axs.loglog(epochs, history_valid_MSE, label=\"valid_MSE\")\n",
    "            self.axs.loglog(epochs, history_valid_acc, label=\"valid_acc\")\n",
    "\n",
    "            self.axs.legend()\n",
    "            self.axs.set_title(\n",
    "                \"epoch %d - accuracy %0.1f%%\"\n",
    "                % (self.epoch + 1, 100 * history_valid_acc[-1])\n",
    "            )"
   ]
  },
  {
   "cell_type": "markdown",
   "metadata": {
    "id": "3TH0_K-AaO7k"
   },
   "source": [
    "Train an ANN-based classifier with two hidden layers with 50 neurons each.\n",
    "Use 500 epochs of the RMSProp algorithm, with decay rate 0.9 and $\\delta = 10^{-7}$ and fixed learning rate $\\lambda = 0.002$. Use minibatches with batch size of 1000.\n",
    "To monitor training, store every 10 training epochs the following metrics in the following lists:\n",
    "\n",
    "- `history_train_Xen`: cross-entropy (training set)\n",
    "- `history_valid_Xen`: cross-entropy (validation set)\n",
    "- `history_valid_MSE`: MSE (validation set)\n",
    "- `history_valid_acc`: accuracy (validation set)\n"
   ]
  },
  {
   "cell_type": "code",
   "execution_count": null,
   "metadata": {
    "colab": {
     "base_uri": "https://localhost:8080/",
     "height": 989
    },
    "executionInfo": {
     "elapsed": 25930,
     "status": "ok",
     "timestamp": 1671127733429,
     "user": {
      "displayName": "Francesco Regazzoni",
      "userId": "08593163129562527691"
     },
     "user_tz": -60
    },
    "id": "nIDT1oSvalEo",
    "outputId": "d561ce32-83a5-45d8-ba8b-49d232837a34"
   },
   "outputs": [],
   "source": [
    "# Hyperparameters\n",
    "layers_size = [784, 50, 50, 10]\n",
    "# Training options\n",
    "num_epochs = 2000\n",
    "batch_size = 100\n",
    "learning_rate = 2e-3\n",
    "decay_rate = 0.9\n",
    "delta = 1e-7\n",
    "########################################\n",
    "\n",
    "params = initialize_params(layers_size)\n",
    "\n",
    "grad = jax.grad(cross_entropy, argnums=2)\n",
    "grad_jit = jax.jit(grad)\n",
    "\n",
    "cross_entropy_jit = jax.jit(cross_entropy)\n",
    "MSE_jit = jax.jit(MSE)\n",
    "accuracy_jit = jax.jit(accuracy)\n",
    "\n",
    "history_train_Xen = list()\n",
    "history_valid_Xen = list()\n",
    "history_valid_MSE = list()\n",
    "history_valid_acc = list()\n",
    "\n",
    "\n",
    "def dump():\n",
    "    history_train_Xen.append(cross_entropy_jit(x_train, y_train, params))\n",
    "    history_valid_Xen.append(cross_entropy_jit(x_valid, y_valid, params))\n",
    "    history_valid_MSE.append(MSE_jit(x_valid, y_valid, params))\n",
    "    history_valid_acc.append(accuracy_jit(x_valid, y_valid, params))\n",
    "\n",
    "\n",
    "dump()\n",
    "cb = Callback(refresh_rate=50)\n",
    "\n",
    "cumulated_square_grad = [0.0 for i in range(len(params))]\n",
    "for epoch in range(num_epochs):\n",
    "    # learning_rate = max(learning_rate_min, learning_rate_max * (1 - epoch/learning_rate_decay))\n",
    "    idxs = np.random.choice(n_train, batch_size)\n",
    "    grads = grad_jit(x_train[:, idxs], y_train[:, idxs], params)\n",
    "\n",
    "    for i in range(len(params)):\n",
    "        cumulated_square_grad[i] = (\n",
    "            decay_rate * cumulated_square_grad[i]\n",
    "            + (1 - decay_rate) * grads[i] * grads[i]\n",
    "        )\n",
    "        params[i] -= (\n",
    "            learning_rate / (delta + jnp.sqrt(cumulated_square_grad[i])) * grads[i]\n",
    "        )\n",
    "\n",
    "    if epoch % 10 == 0:\n",
    "        dump()\n",
    "\n",
    "    cb(epoch)\n",
    "cb.draw()"
   ]
  },
  {
   "cell_type": "markdown",
   "metadata": {
    "id": "mYN_CQrCs7TR"
   },
   "source": [
    "## Testing\n"
   ]
  },
  {
   "cell_type": "markdown",
   "metadata": {
    "id": "CLLoZBE70wmM"
   },
   "source": [
    "Load the dataset `sample_data/mnist_test.csv` and compute the accuracy of the classifier on this dataset.\n"
   ]
  },
  {
   "cell_type": "code",
   "execution_count": null,
   "metadata": {
    "colab": {
     "base_uri": "https://localhost:8080/"
    },
    "executionInfo": {
     "elapsed": 6928,
     "status": "ok",
     "timestamp": 1671127740354,
     "user": {
      "displayName": "Francesco Regazzoni",
      "userId": "08593163129562527691"
     },
     "user_tz": -60
    },
    "id": "P-KXleHts6xy",
    "outputId": "7bb220b2-e71e-4e1f-be9e-a056191ac874"
   },
   "outputs": [],
   "source": [
    "data_test = np.genfromtxt(\"../mnist_test.csv\", delimiter=\",\")\n",
    "data_test.shape\n",
    "labels_test = data_test[:, 0]\n",
    "x_test = data_test[:, 1:].transpose() / 255\n",
    "y_test = np.zeros((10, x_test.shape[1]))\n",
    "for i in range(10):\n",
    "    y_test[i, labels_test == i] = 1\n",
    "x_test.shape, y_test.shape"
   ]
  },
  {
   "cell_type": "code",
   "execution_count": null,
   "metadata": {
    "colab": {
     "base_uri": "https://localhost:8080/"
    },
    "executionInfo": {
     "elapsed": 429,
     "status": "ok",
     "timestamp": 1671127740780,
     "user": {
      "displayName": "Francesco Regazzoni",
      "userId": "08593163129562527691"
     },
     "user_tz": -60
    },
    "id": "2pAqC6XztA0o",
    "outputId": "1ca072d1-bc8a-4b5e-bded-e27b4302d886"
   },
   "outputs": [],
   "source": [
    "acc = accuracy(x_test, y_test, params)\n",
    "print(\"accuracy: %f%%\" % (100 * acc))"
   ]
  },
  {
   "cell_type": "markdown",
   "metadata": {
    "id": "tJSRUqyE08r4"
   },
   "source": [
    "Use the following script to visualize the predictions on a bunch of test images.\n"
   ]
  },
  {
   "cell_type": "code",
   "execution_count": null,
   "metadata": {
    "colab": {
     "base_uri": "https://localhost:8080/",
     "height": 1000
    },
    "executionInfo": {
     "elapsed": 7608,
     "status": "ok",
     "timestamp": 1671127748387,
     "user": {
      "displayName": "Francesco Regazzoni",
      "userId": "08593163129562527691"
     },
     "user_tz": -60
    },
    "id": "2AIAKPAStXfz",
    "outputId": "703738b1-8183-4403-a7d6-c8fdcf9f2756"
   },
   "outputs": [],
   "source": [
    "offset = 0\n",
    "n_images = 40\n",
    "\n",
    "images_per_row = 10\n",
    "y_predicted = ANN(x_test[:, offset : offset + n_images], params)\n",
    "\n",
    "\n",
    "def draw_bars(ax, y_predicted, label):\n",
    "    myplot = ax.bar(range(10), (y_predicted))\n",
    "    ax.set_ylim([0, 1])\n",
    "    ax.set_xticks(range(10))\n",
    "\n",
    "    label_predicted = np.argmax(y_predicted)\n",
    "    if label == label_predicted:\n",
    "        color = \"green\"\n",
    "    else:\n",
    "        color = \"red\"\n",
    "    myplot[label_predicted].set_color(color)\n",
    "\n",
    "\n",
    "import math\n",
    "\n",
    "n_rows = 2 * math.ceil(n_images / images_per_row)\n",
    "_, axs = plt.subplots(n_rows, images_per_row, figsize=(3 * images_per_row, 3 * n_rows))\n",
    "row = 0\n",
    "col = 0\n",
    "for i in range(n_images):\n",
    "    axs[2 * row, col].imshow(x_test[:, offset + i].reshape((28, 28)), cmap=\"gray\")\n",
    "    axs[2 * row, col].set_title(int(labels_test[offset + i]))\n",
    "    axs[2 * row, col].axis(\"off\")\n",
    "\n",
    "    draw_bars(axs[2 * row + 1, col], y_predicted[:, i], labels_test[offset + i])\n",
    "\n",
    "    col += 1\n",
    "    if col == images_per_row:\n",
    "        col = 0\n",
    "        row += 1"
   ]
  },
  {
   "cell_type": "markdown",
   "metadata": {
    "id": "Xs9nPbRiJpeP"
   },
   "source": [
    "# Adversarial attacks\n",
    "\n",
    "You have trained your classifier. Cool, isn't it? Let us now try to fool it.\n",
    "\n",
    "Consider the last image of the training set. Visualize it and visualize the associated predictions of the classifier.\n"
   ]
  },
  {
   "cell_type": "code",
   "execution_count": null,
   "metadata": {
    "colab": {
     "base_uri": "https://localhost:8080/",
     "height": 269
    },
    "executionInfo": {
     "elapsed": 7,
     "status": "ok",
     "timestamp": 1671127748388,
     "user": {
      "displayName": "Francesco Regazzoni",
      "userId": "08593163129562527691"
     },
     "user_tz": -60
    },
    "id": "pSec_8lB9nW9",
    "outputId": "f49dacba-3c38-411b-a5bb-853ab1d421ad"
   },
   "outputs": [],
   "source": [
    "x = x_data[:, -2][:, None]\n",
    "y = y_data[:, -2][:, None]\n",
    "label = np.argmax(y)\n",
    "\n",
    "_, axs = plt.subplots(1, 2, figsize=(8, 4))\n",
    "axs[0].imshow(x.reshape((28, 28)), cmap=\"gray\")\n",
    "axs[0].axis(\"off\")\n",
    "\n",
    "y_pred = ANN(x, params)\n",
    "\n",
    "draw_bars(axs[1], y_pred[:, 0], label)"
   ]
  },
  {
   "cell_type": "markdown",
   "metadata": {
    "id": "V1yZaDFFKKBk"
   },
   "source": [
    "An adversarial attack consists of an (almost imperceptible) modification of the image, aimed at fooling the classifier into making a mistake.\n",
    "See e.g. [this article](https://www.wired.com/story/tesla-speed-up-adversarial-example-mgm-breach-ransomware/)\n",
    "\n",
    "To hack the classifier, compute the gradient of cross entropy loss funcion with respect to the input (not to the parameters!). Then, superimpose a multiple of the gradient to the original image. See e.g. [this article](https://www.tensorflow.org/tutorials/generative/adversarial_fgsm).\n",
    "\n",
    "Visualize the original and the hacked images and the corresponding prediction of the classifier.\n",
    "\n"
   ]
  },
  {
   "cell_type": "code",
   "execution_count": null,
   "metadata": {
    "colab": {
     "base_uri": "https://localhost:8080/",
     "height": 269
    },
    "executionInfo": {
     "elapsed": 2207,
     "status": "ok",
     "timestamp": 1671127750589,
     "user": {
      "displayName": "Francesco Regazzoni",
      "userId": "08593163129562527691"
     },
     "user_tz": -60
    },
    "id": "SmHmxuZd-KAw",
    "outputId": "e7df007d-1fa9-4a44-a07a-48d87336d25e"
   },
   "outputs": [],
   "source": [
    "grad = jax.grad(cross_entropy, argnums=0)\n",
    "gradient = grad(x, y, params)\n",
    "x_updated = x + 50 * gradient\n",
    "y_updated = ANN(x_updated, params)\n",
    "\n",
    "_, axs = plt.subplots(1, 5, figsize=(20, 4))\n",
    "axs[0].imshow(x.reshape((28, 28)), cmap=\"gray\")\n",
    "axs[0].set_title(\"original picture\")\n",
    "draw_bars(axs[1], y_pred[:, 0], label)\n",
    "axs[2].imshow(gradient.reshape((28, 28)), cmap=\"gray\")\n",
    "axs[2].set_title(\"gradient\")\n",
    "axs[3].imshow(x_updated.reshape((28, 28)), cmap=\"gray\")\n",
    "axs[3].set_title(\"hacked picture\")\n",
    "draw_bars(axs[4], y_updated[:, 0], label)"
   ]
  },
  {
   "cell_type": "markdown",
   "metadata": {
    "id": "Jle2lzyYM_y8"
   },
   "source": [
    "# Using PCA for feature selection\n",
    "\n",
    "Perform the Principal Component Analysis of the training dataset, plotting the trend of the singular values.\n"
   ]
  },
  {
   "cell_type": "code",
   "execution_count": null,
   "metadata": {
    "colab": {
     "base_uri": "https://localhost:8080/",
     "height": 266
    },
    "executionInfo": {
     "elapsed": 7,
     "status": "ok",
     "timestamp": 1671127750589,
     "user": {
      "displayName": "Francesco Regazzoni",
      "userId": "08593163129562527691"
     },
     "user_tz": -60
    },
    "id": "1dP5H9VY6cGs",
    "outputId": "49799d32-17a7-434b-c446-861e542cffe6"
   },
   "outputs": [],
   "source": [
    "x_train_mean = x_train.mean(axis=1)\n",
    "plt.imshow(x_train_mean.reshape((28, 28)), cmap=\"gray\")\n",
    "plt.axis(\"off\")"
   ]
  },
  {
   "cell_type": "code",
   "execution_count": null,
   "metadata": {
    "colab": {
     "base_uri": "https://localhost:8080/",
     "height": 408
    },
    "executionInfo": {
     "elapsed": 6381,
     "status": "ok",
     "timestamp": 1671127756965,
     "user": {
      "displayName": "Francesco Regazzoni",
      "userId": "08593163129562527691"
     },
     "user_tz": -60
    },
    "id": "2131gFx46jnG",
    "outputId": "35a48fbd-f0ce-4b20-951b-a7f9d6692aff"
   },
   "outputs": [],
   "source": [
    "U, s, VT = np.linalg.svd(x_train - x_train_mean[:, None], full_matrices=False)\n",
    "\n",
    "fig, axes = plt.subplots(nrows=1, ncols=3, figsize=(18, 6))\n",
    "\n",
    "axes[0].semilogy(s, \"o-\")\n",
    "axes[0].set_title(\"Singluar values\")\n",
    "\n",
    "axes[1].plot(np.cumsum(s) / np.sum(s), \"o-\")\n",
    "axes[1].set_title(\"Cumulate fraction of singular values\")\n",
    "\n",
    "axes[2].plot(np.cumsum(s**2) / np.sum(s**2), \"o-\")\n",
    "axes[2].set_title(\"Explained variance\")"
   ]
  },
  {
   "cell_type": "markdown",
   "metadata": {
    "id": "sPRzRrEPNXou"
   },
   "source": [
    "Compute the principal components associated with the training and validation datasets and put them in two matrices.\n"
   ]
  },
  {
   "cell_type": "code",
   "execution_count": null,
   "metadata": {
    "executionInfo": {
     "elapsed": 515,
     "status": "ok",
     "timestamp": 1671127757468,
     "user": {
      "displayName": "Francesco Regazzoni",
      "userId": "08593163129562527691"
     },
     "user_tz": -60
    },
    "id": "AIWgoPWN6vvG"
   },
   "outputs": [],
   "source": [
    "x_train_pc = np.matmul(U.transpose(), (x_train - x_train_mean[:, None]))\n",
    "x_valid_pc = np.matmul(U.transpose(), (x_valid - x_train_mean[:, None]))"
   ]
  },
  {
   "cell_type": "markdown",
   "metadata": {
    "id": "xLvip8y2NeIK"
   },
   "source": [
    "Train a classifier, providing as an input only the first 50 principal components of the data. Emply an ANN with a single 50-neurons hidden layer.\n"
   ]
  },
  {
   "cell_type": "code",
   "execution_count": null,
   "metadata": {
    "colab": {
     "base_uri": "https://localhost:8080/",
     "height": 989
    },
    "executionInfo": {
     "elapsed": 15810,
     "status": "ok",
     "timestamp": 1671127773560,
     "user": {
      "displayName": "Francesco Regazzoni",
      "userId": "08593163129562527691"
     },
     "user_tz": -60
    },
    "id": "l-D_wZXuN5gZ",
    "outputId": "bcc5609c-65f8-4be5-daaf-ab006bfb91ed"
   },
   "outputs": [],
   "source": [
    "# Hyperparameters\n",
    "sv_offset = 0\n",
    "n_sv = 50\n",
    "layers_size = [n_sv, 50, 10]\n",
    "# Training options\n",
    "num_epochs = 1000\n",
    "batch_size = 1000\n",
    "learning_rate = 2e-3\n",
    "decay_rate = 0.9\n",
    "delta = 1e-7\n",
    "########################################\n",
    "\n",
    "params = initialize_params(layers_size)\n",
    "\n",
    "grad = jax.grad(cross_entropy, argnums=2)\n",
    "grad_jit = jax.jit(grad)\n",
    "\n",
    "cross_entropy_jit = jax.jit(cross_entropy)\n",
    "MSE_jit = jax.jit(MSE)\n",
    "accuracy_jit = jax.jit(accuracy)\n",
    "\n",
    "history_train_Xen = list()\n",
    "history_valid_Xen = list()\n",
    "history_valid_MSE = list()\n",
    "history_valid_acc = list()\n",
    "\n",
    "\n",
    "def dump():\n",
    "    history_train_Xen.append(\n",
    "        cross_entropy_jit(x_train_pc[sv_offset : sv_offset + n_sv, :], y_train, params)\n",
    "    )\n",
    "    history_valid_Xen.append(\n",
    "        cross_entropy_jit(x_valid_pc[sv_offset : sv_offset + n_sv, :], y_valid, params)\n",
    "    )\n",
    "    history_valid_MSE.append(\n",
    "        MSE_jit(x_valid_pc[sv_offset : sv_offset + n_sv, :], y_valid, params)\n",
    "    )\n",
    "    history_valid_acc.append(\n",
    "        accuracy_jit(x_valid_pc[sv_offset : sv_offset + n_sv, :], y_valid, params)\n",
    "    )\n",
    "\n",
    "\n",
    "dump()\n",
    "cb = Callback(refresh_rate=50)\n",
    "\n",
    "cumulated_square_grad = [0.0 for i in range(len(params))]\n",
    "for epoch in range(num_epochs):\n",
    "    # learning_rate = max(learning_rate_min, learning_rate_max * (1 - epoch/learning_rate_decay))\n",
    "    idxs = np.random.choice(n_train, batch_size)\n",
    "    grads = grad_jit(\n",
    "        x_train_pc[sv_offset : sv_offset + n_sv, idxs], y_train[:, idxs], params\n",
    "    )\n",
    "\n",
    "    for i in range(len(params)):\n",
    "        cumulated_square_grad[i] = (\n",
    "            decay_rate * cumulated_square_grad[i]\n",
    "            + (1 - decay_rate) * grads[i] * grads[i]\n",
    "        )\n",
    "        params[i] -= (\n",
    "            learning_rate / (delta + jnp.sqrt(cumulated_square_grad[i])) * grads[i]\n",
    "        )\n",
    "\n",
    "    if epoch % 10 == 0:\n",
    "        dump()\n",
    "\n",
    "    cb(epoch)\n",
    "cb.draw()"
   ]
  },
  {
   "cell_type": "markdown",
   "metadata": {
    "id": "0Aoh6YwwOtOC"
   },
   "source": [
    "Test the classifier on the test dataset.\n"
   ]
  },
  {
   "cell_type": "code",
   "execution_count": null,
   "metadata": {
    "colab": {
     "base_uri": "https://localhost:8080/"
    },
    "executionInfo": {
     "elapsed": 431,
     "status": "ok",
     "timestamp": 1671127773988,
     "user": {
      "displayName": "Francesco Regazzoni",
      "userId": "08593163129562527691"
     },
     "user_tz": -60
    },
    "id": "S_dyxiyMOiIZ",
    "outputId": "3fdfdc77-d736-40b2-b270-e2011ca22840"
   },
   "outputs": [],
   "source": [
    "x_test_pc = np.matmul(U.transpose(), (x_test - x_train_mean[:, None]))\n",
    "acc = accuracy(x_test_pc[sv_offset : sv_offset + n_sv], y_test, params)\n",
    "print(\"accuracy: %f%%\" % (100 * acc))"
   ]
  },
  {
   "cell_type": "code",
   "execution_count": null,
   "metadata": {
    "colab": {
     "base_uri": "https://localhost:8080/",
     "height": 1000
    },
    "executionInfo": {
     "elapsed": 7902,
     "status": "ok",
     "timestamp": 1671127781886,
     "user": {
      "displayName": "Francesco Regazzoni",
      "userId": "08593163129562527691"
     },
     "user_tz": -60
    },
    "id": "zBLxQAHWO0Hg",
    "outputId": "b067fdea-234b-47d6-9e22-dc388a42a5ab"
   },
   "outputs": [],
   "source": [
    "offset = 0\n",
    "n_images = 40\n",
    "\n",
    "images_per_row = 10\n",
    "y_predicted = ANN(\n",
    "    x_test_pc[sv_offset : sv_offset + n_sv, offset : offset + n_images], params\n",
    ")\n",
    "\n",
    "import math\n",
    "\n",
    "n_rows = 2 * math.ceil(n_images / images_per_row)\n",
    "_, axs = plt.subplots(n_rows, images_per_row, figsize=(3 * images_per_row, 3 * n_rows))\n",
    "row = 0\n",
    "col = 0\n",
    "for i in range(n_images):\n",
    "    axs[2 * row, col].imshow(x_test[:, offset + i].reshape((28, 28)), cmap=\"gray\")\n",
    "    axs[2 * row, col].set_title(int(labels_test[offset + i]))\n",
    "    axs[2 * row, col].axis(\"off\")\n",
    "\n",
    "    draw_bars(axs[2 * row + 1, col], y_predicted[:, i], labels_test[offset + i])\n",
    "\n",
    "    col += 1\n",
    "    if col == images_per_row:\n",
    "        col = 0\n",
    "        row += 1"
   ]
  },
  {
   "cell_type": "markdown",
   "metadata": {
    "id": "c2zcz00ZQBDy"
   },
   "source": [
    "Repeat the previous point by employing a collection of 50 singular values, this time excluding the first $n$ of them.\n"
   ]
  }
 ],
 "metadata": {
  "colab": {
   "authorship_tag": "ABX9TyMrG9ECGJ+Egk3Zy2waV0G7",
   "provenance": []
  },
  "kernelspec": {
   "display_name": "micromamba",
   "language": "python",
   "name": "python3"
  },
  "language_info": {
   "codemirror_mode": {
    "name": "ipython",
    "version": 3
   },
   "file_extension": ".py",
   "mimetype": "text/x-python",
   "name": "python",
   "nbconvert_exporter": "python",
   "pygments_lexer": "ipython3",
   "version": "3.11.6"
  }
 },
 "nbformat": 4,
 "nbformat_minor": 1
}
