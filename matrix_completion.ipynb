{
  "cells": [
    {
      "cell_type": "markdown",
      "metadata": {
        "id": "view-in-github",
        "colab_type": "text"
      },
      "source": [
        "<a href=\"https://colab.research.google.com/github/MoeinDSP/Numerical-Analysis-for-Machine-Learning/blob/main/matrix_completion.ipynb\" target=\"_parent\"><img src=\"https://colab.research.google.com/assets/colab-badge.svg\" alt=\"Open In Colab\"/></a>"
      ]
    },
    {
      "cell_type": "markdown",
      "metadata": {
        "id": "38-hDL_qyNgD"
      },
      "source": [
        "# Matrix completion and recommender systems\n"
      ]
    },
    {
      "cell_type": "markdown",
      "metadata": {
        "id": "vAQg0dnYQv7w"
      },
      "source": [
        "[MovieLens](movielens.umn.edu) data sets were collected by the [GroupLens Research Project](http://www.grouplens.org/) at the University of Minnesota.\n",
        "\n",
        "This data set consists of:\n",
        "\n",
        "- 100000 ratings (1-5) from 943 users on 1682 movies.\n",
        "- Each user has rated at least 20 movies.\n",
        "\n",
        "The `movielens.csv` file contains the full dataset. Users and items are numbered consecutively from 1. The data is randomly ordered. This is a tab separated list of\n",
        "\n",
        "```\n",
        "user id | item id | rating | timestamp\n",
        "```\n"
      ]
    },
    {
      "cell_type": "code",
      "execution_count": null,
      "metadata": {
        "id": "CErbjjHvR85c"
      },
      "outputs": [],
      "source": [
        "import pandas as pd\n",
        "import numpy as np\n",
        "import matplotlib.pyplot as plt\n",
        "from scipy.sparse import csr_matrix\n",
        "from scipy.stats import pearsonr"
      ]
    },
    {
      "cell_type": "markdown",
      "metadata": {
        "id": "9hSllBeQSGNd"
      },
      "source": [
        "Read the dataset from the `movielens.csv` file.\n"
      ]
    },
    {
      "cell_type": "code",
      "execution_count": null,
      "metadata": {
        "colab": {
          "base_uri": "https://localhost:8080/",
          "height": 300
        },
        "id": "BGUGfjrcSNFE",
        "outputId": "115e09ba-8c22-4152-a965-db4bbc01cfd1"
      },
      "outputs": [
        {
          "data": {
            "text/html": [
              "<div>\n",
              "<style scoped>\n",
              "    .dataframe tbody tr th:only-of-type {\n",
              "        vertical-align: middle;\n",
              "    }\n",
              "\n",
              "    .dataframe tbody tr th {\n",
              "        vertical-align: top;\n",
              "    }\n",
              "\n",
              "    .dataframe thead th {\n",
              "        text-align: right;\n",
              "    }\n",
              "</style>\n",
              "<table border=\"1\" class=\"dataframe\">\n",
              "  <thead>\n",
              "    <tr style=\"text-align: right;\">\n",
              "      <th></th>\n",
              "      <th>0</th>\n",
              "      <th>1</th>\n",
              "      <th>2</th>\n",
              "      <th>3</th>\n",
              "    </tr>\n",
              "  </thead>\n",
              "  <tbody>\n",
              "    <tr>\n",
              "      <th>count</th>\n",
              "      <td>100000.00000</td>\n",
              "      <td>100000.000000</td>\n",
              "      <td>100000.000000</td>\n",
              "      <td>1.000000e+05</td>\n",
              "    </tr>\n",
              "    <tr>\n",
              "      <th>mean</th>\n",
              "      <td>462.48475</td>\n",
              "      <td>425.530130</td>\n",
              "      <td>3.529860</td>\n",
              "      <td>8.835289e+08</td>\n",
              "    </tr>\n",
              "    <tr>\n",
              "      <th>std</th>\n",
              "      <td>266.61442</td>\n",
              "      <td>330.798356</td>\n",
              "      <td>1.125674</td>\n",
              "      <td>5.343856e+06</td>\n",
              "    </tr>\n",
              "    <tr>\n",
              "      <th>min</th>\n",
              "      <td>1.00000</td>\n",
              "      <td>1.000000</td>\n",
              "      <td>1.000000</td>\n",
              "      <td>8.747247e+08</td>\n",
              "    </tr>\n",
              "    <tr>\n",
              "      <th>25%</th>\n",
              "      <td>254.00000</td>\n",
              "      <td>175.000000</td>\n",
              "      <td>3.000000</td>\n",
              "      <td>8.794487e+08</td>\n",
              "    </tr>\n",
              "    <tr>\n",
              "      <th>50%</th>\n",
              "      <td>447.00000</td>\n",
              "      <td>322.000000</td>\n",
              "      <td>4.000000</td>\n",
              "      <td>8.828269e+08</td>\n",
              "    </tr>\n",
              "    <tr>\n",
              "      <th>75%</th>\n",
              "      <td>682.00000</td>\n",
              "      <td>631.000000</td>\n",
              "      <td>4.000000</td>\n",
              "      <td>8.882600e+08</td>\n",
              "    </tr>\n",
              "    <tr>\n",
              "      <th>max</th>\n",
              "      <td>943.00000</td>\n",
              "      <td>1682.000000</td>\n",
              "      <td>5.000000</td>\n",
              "      <td>8.932866e+08</td>\n",
              "    </tr>\n",
              "  </tbody>\n",
              "</table>\n",
              "</div>"
            ],
            "text/plain": [
              "                  0              1              2             3\n",
              "count  100000.00000  100000.000000  100000.000000  1.000000e+05\n",
              "mean      462.48475     425.530130       3.529860  8.835289e+08\n",
              "std       266.61442     330.798356       1.125674  5.343856e+06\n",
              "min         1.00000       1.000000       1.000000  8.747247e+08\n",
              "25%       254.00000     175.000000       3.000000  8.794487e+08\n",
              "50%       447.00000     322.000000       4.000000  8.828269e+08\n",
              "75%       682.00000     631.000000       4.000000  8.882600e+08\n",
              "max       943.00000    1682.000000       5.000000  8.932866e+08"
            ]
          },
          "execution_count": 2,
          "metadata": {},
          "output_type": "execute_result"
        }
      ],
      "source": [
        "dataset = pd.read_csv(\"../movielens.csv\", sep=\"\\t\", header=None)\n",
        "dataset.describe()"
      ]
    },
    {
      "cell_type": "markdown",
      "metadata": {
        "id": "KL3LYjZjSUkE"
      },
      "source": [
        "How many movies? How many people? How many ratings?\n"
      ]
    },
    {
      "cell_type": "code",
      "execution_count": null,
      "metadata": {
        "colab": {
          "base_uri": "https://localhost:8080/"
        },
        "id": "Zkain10kSbQi",
        "outputId": "4d52ca76-db01-4cb4-e21b-3f77bbfddf12"
      },
      "outputs": [
        {
          "name": "stdout",
          "output_type": "stream",
          "text": [
            "943 people\n",
            "1682 movies\n",
            "100000 ratings\n"
          ]
        }
      ],
      "source": [
        "rows = np.array(dataset[0]) - 1\n",
        "cols = np.array(dataset[1]) - 1\n",
        "vals = np.array(dataset[2])\n",
        "\n",
        "n = rows.max() + 1\n",
        "p = cols.max() + 1\n",
        "d = len(rows)\n",
        "\n",
        "print(f\"{n} people\")\n",
        "print(f\"{p} movies\")\n",
        "print(f\"{d} ratings\")"
      ]
    },
    {
      "cell_type": "markdown",
      "metadata": {
        "id": "w4BfJL9wScZU"
      },
      "source": [
        "Shuffle the data (see the function [`np.random.shuffle`](https://numpy.org/doc/stable/reference/random/generated/numpy.random.shuffle.html)).\n"
      ]
    },
    {
      "cell_type": "code",
      "execution_count": null,
      "metadata": {
        "id": "zXgd2S5jSiKE"
      },
      "outputs": [],
      "source": [
        "idxs = np.arange(d)\n",
        "np.random.seed(1)  # for reproducibility\n",
        "np.random.shuffle(idxs)\n",
        "rows = rows[idxs]\n",
        "cols = cols[idxs]\n",
        "vals = vals[idxs]"
      ]
    },
    {
      "cell_type": "markdown",
      "metadata": {
        "id": "Orx1_BciSkTl"
      },
      "source": [
        "Split the dataset into a subset of 80000 training ratings and 20000 testing ratings.\n"
      ]
    },
    {
      "cell_type": "code",
      "execution_count": null,
      "metadata": {
        "id": "6NBGJmmsSrNV"
      },
      "outputs": [],
      "source": [
        "training_data = int(0.8 * d) # use 80% of the data as training\n",
        "\n",
        "rows_train = rows[:training_data]\n",
        "cols_train = cols[:training_data]\n",
        "vals_train = vals[:training_data]\n",
        "rows_test = rows[training_data:]\n",
        "cols_test = cols[training_data:]\n",
        "vals_test = vals[training_data:]"
      ]
    },
    {
      "cell_type": "markdown",
      "metadata": {
        "id": "fu5h_yrnSwAZ"
      },
      "source": [
        "Let us denote by $\\Omega$ the set of pairs $(i,j)$ such that rating of the $i$-th user on the $j$-th movie is available in the training set (similarly, $\\Omega_{\\text{test}}$ is the set of testing pairs).\n",
        "Let us denote by $r_{ij}$ the corresponding rating.\n",
        "\n",
        "Create a full matrix $X \\in \\mathbb{R}^{n \\times p}$, such that:\n",
        "\n",
        "$$\n",
        "X_{i,j} =\n",
        "\\begin{cases}\n",
        "r_{ij} & \\text{if } (i,j) \\in \\Omega\\\\\n",
        "0& \\text{otherwise}\n",
        "\\end{cases}\n",
        "$$\n"
      ]
    },
    {
      "cell_type": "code",
      "execution_count": null,
      "metadata": {
        "id": "A7wrWIjmTR_r"
      },
      "outputs": [],
      "source": [
        "X_sparse = csr_matrix((vals_train, (rows_train, cols_train)), shape=(n, p))\n",
        "X_full = X_sparse.toarray()"
      ]
    },
    {
      "cell_type": "markdown",
      "metadata": {
        "id": "sGg4nEkKTSWK"
      },
      "source": [
        "## Trivial recommender system\n",
        "\n",
        "Create a trivial recommender system, based on the average rating of each user:\n",
        "\n",
        "$$\n",
        "r^{\\text{pred}}_{ij} = \\frac{1}{N_i} \\sum_{j : (i,j) \\in \\Omega} r_{ij}\n",
        "$$\n",
        "\n",
        "where $N_i = card(j : (i,j) \\in \\Omega)$.\n",
        "\n",
        "Then compute the RMSE (root mean square error):\n",
        "\n",
        "$$\n",
        "\\text{RMSE} = \\sqrt{\\frac{1}{card(\\Omega_{\\text{test}})} \\sum_{(i,j) \\in \\Omega_{\\text{test}}} (r_{ij} - r^{\\text{pred}}_{ij})^2}\n",
        "$$\n",
        "\n",
        "and the Pearson correlation coefficient $\\rho$ (use the function [scipy.stats.pearsonr](https://docs.scipy.org/doc/scipy/reference/generated/scipy.stats.pearsonr.html)):\n",
        "\n",
        "$$\n",
        "\\rho =\n",
        "\\frac\n",
        "{\n",
        "    \\displaystyle\\sum_{(i,j) \\in \\Omega_{\\text{test}}}\n",
        "       (r_{ij} - \\overline{r})\n",
        "       (r^{\\text{pred}}_{ij} - \\overline{r}^{\\text{pred}})\n",
        "}\n",
        "{\\sqrt{\n",
        "    \\displaystyle\\sum_{(i,j) \\in \\Omega_{\\text{test}}}\n",
        "       (r_{ij} - \\overline{r})^2\n",
        "       }\n",
        "\\sqrt{\n",
        "    \\displaystyle\\sum_{(i,j) \\in \\Omega_{\\text{test}}}\n",
        "       (r^{\\text{pred}}_{ij} - \\overline{r}^{\\text{pred}})^2\n",
        "       }}\n",
        "$$\n",
        "\n",
        "where\n",
        "\n",
        "$$\n",
        "\\begin{split}\n",
        "\\overline{r} &= \\frac{1}{card(\\Omega_{\\text{test}})} \\sum_{(i,j) \\in \\Omega_{\\text{test}}}\n",
        "       r_{ij}\n",
        "\\\\\n",
        "\\overline{r}^{\\text{pred}} &= \\frac{1}{card(\\Omega_{\\text{test}})} \\sum_{(i,j) \\in \\Omega_{\\text{test}}}\n",
        "       r^{\\text{pred}}_{ij}\n",
        "\\end{split}\n",
        "$$\n"
      ]
    },
    {
      "cell_type": "code",
      "execution_count": null,
      "metadata": {
        "colab": {
          "base_uri": "https://localhost:8080/"
        },
        "id": "jHMRByIcqPRT",
        "outputId": "cfee7cb5-49bb-470e-cf81-ebc3c5ba94f9"
      },
      "outputs": [
        {
          "name": "stdout",
          "output_type": "stream",
          "text": [
            "RMSE: 1.043\n",
            "rho : 0.384\n"
          ]
        }
      ],
      "source": [
        "avg_ratings = np.array([np.mean(vals_train[rows_train == i]) for i in range(n)])\n",
        "vals_trivial = avg_ratings[rows_test]\n",
        "\n",
        "errors_trivial = vals_test - vals_trivial\n",
        "\n",
        "RMSE_trivial = np.sqrt(np.mean(errors_trivial**2))\n",
        "rho_trivial = pearsonr(vals_test, vals_trivial)[0]\n",
        "print(f\"RMSE: {RMSE_trivial:1.3f}\")\n",
        "print(f\"rho : {rho_trivial:1.3f}\")"
      ]
    },
    {
      "cell_type": "markdown",
      "metadata": {
        "id": "aQxUcttequN3"
      },
      "source": [
        "# Singular value truncation (SVT) based recommender system\n"
      ]
    },
    {
      "cell_type": "markdown",
      "metadata": {
        "id": "cLtvKy_kqz2D"
      },
      "source": [
        "Implement the SVT algorithm to predict the ratings of the testing set. Set a maximum number of iterations equal to 100. Print the RMSE and $\\rho$ at each iteration. Finally, plot the trend of both metrics.\n",
        "\n",
        "Try to calibrate the threshold to get better results.\n"
      ]
    },
    {
      "cell_type": "code",
      "execution_count": null,
      "metadata": {
        "colab": {
          "base_uri": "https://localhost:8080/"
        },
        "id": "0vXEQDwBPuru",
        "outputId": "f50a9ee8-678f-4db5-c98a-b48643f35862"
      },
      "outputs": [
        {
          "name": "stdout",
          "output_type": "stream",
          "text": [
            "=============== Iteration 1 - increment norm 4.308e+02\n",
            "RMSE: 2.611\n",
            "rho:  0.314\n",
            "=============== Iteration 2 - increment norm 2.581e+02\n",
            "RMSE: 2.166\n",
            "rho:  0.342\n",
            "=============== Iteration 3 - increment norm 1.843e+02\n",
            "RMSE: 1.919\n",
            "rho:  0.364\n",
            "=============== Iteration 4 - increment norm 1.433e+02\n",
            "RMSE: 1.758\n",
            "rho:  0.381\n",
            "=============== Iteration 5 - increment norm 1.171e+02\n",
            "RMSE: 1.645\n",
            "rho:  0.395\n",
            "=============== Iteration 6 - increment norm 9.887e+01\n",
            "RMSE: 1.561\n",
            "rho:  0.407\n",
            "=============== Iteration 7 - increment norm 8.547e+01\n",
            "RMSE: 1.495\n",
            "rho:  0.417\n",
            "=============== Iteration 8 - increment norm 7.521e+01\n",
            "RMSE: 1.443\n",
            "rho:  0.426\n",
            "=============== Iteration 9 - increment norm 6.711e+01\n",
            "RMSE: 1.400\n",
            "rho:  0.433\n",
            "=============== Iteration 10 - increment norm 6.056e+01\n",
            "RMSE: 1.364\n",
            "rho:  0.440\n",
            "=============== Iteration 11 - increment norm 5.516e+01\n",
            "RMSE: 1.334\n",
            "rho:  0.445\n",
            "=============== Iteration 12 - increment norm 5.063e+01\n",
            "RMSE: 1.308\n",
            "rho:  0.451\n",
            "=============== Iteration 13 - increment norm 4.678e+01\n",
            "RMSE: 1.285\n",
            "rho:  0.455\n",
            "=============== Iteration 14 - increment norm 4.347e+01\n",
            "RMSE: 1.265\n",
            "rho:  0.460\n",
            "=============== Iteration 15 - increment norm 4.059e+01\n",
            "RMSE: 1.248\n",
            "rho:  0.464\n",
            "=============== Iteration 16 - increment norm 3.807e+01\n",
            "RMSE: 1.233\n",
            "rho:  0.467\n",
            "=============== Iteration 17 - increment norm 3.584e+01\n",
            "RMSE: 1.219\n",
            "rho:  0.471\n",
            "=============== Iteration 18 - increment norm 3.385e+01\n",
            "RMSE: 1.206\n",
            "rho:  0.474\n",
            "=============== Iteration 19 - increment norm 3.208e+01\n",
            "RMSE: 1.195\n",
            "rho:  0.477\n",
            "=============== Iteration 20 - increment norm 3.047e+01\n",
            "RMSE: 1.185\n",
            "rho:  0.479\n",
            "=============== Iteration 21 - increment norm 2.902e+01\n",
            "RMSE: 1.175\n",
            "rho:  0.482\n",
            "=============== Iteration 22 - increment norm 2.771e+01\n",
            "RMSE: 1.167\n",
            "rho:  0.484\n",
            "=============== Iteration 23 - increment norm 2.650e+01\n",
            "RMSE: 1.159\n",
            "rho:  0.486\n",
            "=============== Iteration 24 - increment norm 2.540e+01\n",
            "RMSE: 1.152\n",
            "rho:  0.488\n",
            "=============== Iteration 25 - increment norm 2.438e+01\n",
            "RMSE: 1.145\n",
            "rho:  0.490\n",
            "=============== Iteration 26 - increment norm 2.344e+01\n",
            "RMSE: 1.139\n",
            "rho:  0.492\n",
            "=============== Iteration 27 - increment norm 2.257e+01\n",
            "RMSE: 1.133\n",
            "rho:  0.494\n",
            "=============== Iteration 28 - increment norm 2.177e+01\n",
            "RMSE: 1.128\n",
            "rho:  0.495\n",
            "=============== Iteration 29 - increment norm 2.102e+01\n",
            "RMSE: 1.123\n",
            "rho:  0.497\n",
            "=============== Iteration 30 - increment norm 2.032e+01\n",
            "RMSE: 1.118\n",
            "rho:  0.498\n",
            "=============== Iteration 31 - increment norm 1.966e+01\n",
            "RMSE: 1.114\n",
            "rho:  0.500\n",
            "=============== Iteration 32 - increment norm 1.905e+01\n",
            "RMSE: 1.109\n",
            "rho:  0.501\n",
            "=============== Iteration 33 - increment norm 1.847e+01\n",
            "RMSE: 1.106\n",
            "rho:  0.502\n",
            "=============== Iteration 34 - increment norm 1.793e+01\n",
            "RMSE: 1.102\n",
            "rho:  0.503\n",
            "=============== Iteration 35 - increment norm 1.741e+01\n",
            "RMSE: 1.098\n",
            "rho:  0.505\n",
            "=============== Iteration 36 - increment norm 1.693e+01\n",
            "RMSE: 1.095\n",
            "rho:  0.506\n",
            "=============== Iteration 37 - increment norm 1.647e+01\n",
            "RMSE: 1.092\n",
            "rho:  0.507\n",
            "=============== Iteration 38 - increment norm 1.604e+01\n",
            "RMSE: 1.089\n",
            "rho:  0.508\n",
            "=============== Iteration 39 - increment norm 1.563e+01\n",
            "RMSE: 1.086\n",
            "rho:  0.509\n",
            "=============== Iteration 40 - increment norm 1.524e+01\n",
            "RMSE: 1.084\n",
            "rho:  0.510\n",
            "=============== Iteration 41 - increment norm 1.486e+01\n",
            "RMSE: 1.081\n",
            "rho:  0.510\n",
            "=============== Iteration 42 - increment norm 1.451e+01\n",
            "RMSE: 1.079\n",
            "rho:  0.511\n",
            "=============== Iteration 43 - increment norm 1.417e+01\n",
            "RMSE: 1.077\n",
            "rho:  0.512\n",
            "=============== Iteration 44 - increment norm 1.385e+01\n",
            "RMSE: 1.074\n",
            "rho:  0.513\n",
            "=============== Iteration 45 - increment norm 1.354e+01\n",
            "RMSE: 1.072\n",
            "rho:  0.514\n",
            "=============== Iteration 46 - increment norm 1.325e+01\n",
            "RMSE: 1.070\n",
            "rho:  0.514\n",
            "=============== Iteration 47 - increment norm 1.297e+01\n",
            "RMSE: 1.068\n",
            "rho:  0.515\n",
            "=============== Iteration 48 - increment norm 1.270e+01\n",
            "RMSE: 1.067\n",
            "rho:  0.516\n",
            "=============== Iteration 49 - increment norm 1.244e+01\n",
            "RMSE: 1.065\n",
            "rho:  0.516\n",
            "=============== Iteration 50 - increment norm 1.219e+01\n",
            "RMSE: 1.063\n",
            "rho:  0.517\n",
            "=============== Iteration 51 - increment norm 1.195e+01\n",
            "RMSE: 1.062\n",
            "rho:  0.518\n",
            "=============== Iteration 52 - increment norm 1.172e+01\n",
            "RMSE: 1.060\n",
            "rho:  0.518\n",
            "=============== Iteration 53 - increment norm 1.150e+01\n",
            "RMSE: 1.059\n",
            "rho:  0.519\n",
            "=============== Iteration 54 - increment norm 1.129e+01\n",
            "RMSE: 1.057\n",
            "rho:  0.519\n",
            "=============== Iteration 55 - increment norm 1.109e+01\n",
            "RMSE: 1.056\n",
            "rho:  0.520\n",
            "=============== Iteration 56 - increment norm 1.089e+01\n",
            "RMSE: 1.055\n",
            "rho:  0.520\n",
            "=============== Iteration 57 - increment norm 1.070e+01\n",
            "RMSE: 1.053\n",
            "rho:  0.521\n",
            "=============== Iteration 58 - increment norm 1.052e+01\n",
            "RMSE: 1.052\n",
            "rho:  0.521\n",
            "=============== Iteration 59 - increment norm 1.034e+01\n",
            "RMSE: 1.051\n",
            "rho:  0.522\n",
            "=============== Iteration 60 - increment norm 1.017e+01\n",
            "RMSE: 1.050\n",
            "rho:  0.522\n",
            "=============== Iteration 61 - increment norm 1.001e+01\n",
            "RMSE: 1.049\n",
            "rho:  0.522\n",
            "=============== Iteration 62 - increment norm 9.847e+00\n",
            "RMSE: 1.048\n",
            "rho:  0.523\n",
            "=============== Iteration 63 - increment norm 9.692e+00\n",
            "RMSE: 1.047\n",
            "rho:  0.523\n",
            "=============== Iteration 64 - increment norm 9.543e+00\n",
            "RMSE: 1.046\n",
            "rho:  0.524\n",
            "=============== Iteration 65 - increment norm 9.398e+00\n",
            "RMSE: 1.045\n",
            "rho:  0.524\n",
            "=============== Iteration 66 - increment norm 9.258e+00\n",
            "RMSE: 1.044\n",
            "rho:  0.524\n",
            "=============== Iteration 67 - increment norm 9.122e+00\n",
            "RMSE: 1.043\n",
            "rho:  0.525\n",
            "=============== Iteration 68 - increment norm 8.990e+00\n",
            "RMSE: 1.043\n",
            "rho:  0.525\n",
            "=============== Iteration 69 - increment norm 8.862e+00\n",
            "RMSE: 1.042\n",
            "rho:  0.525\n",
            "=============== Iteration 70 - increment norm 8.738e+00\n",
            "RMSE: 1.041\n",
            "rho:  0.526\n",
            "=============== Iteration 71 - increment norm 8.617e+00\n",
            "RMSE: 1.040\n",
            "rho:  0.526\n",
            "=============== Iteration 72 - increment norm 8.500e+00\n",
            "RMSE: 1.040\n",
            "rho:  0.526\n",
            "=============== Iteration 73 - increment norm 8.386e+00\n",
            "RMSE: 1.039\n",
            "rho:  0.526\n",
            "=============== Iteration 74 - increment norm 8.275e+00\n",
            "RMSE: 1.038\n",
            "rho:  0.527\n",
            "=============== Iteration 75 - increment norm 8.167e+00\n",
            "RMSE: 1.038\n",
            "rho:  0.527\n",
            "=============== Iteration 76 - increment norm 8.063e+00\n",
            "RMSE: 1.037\n",
            "rho:  0.527\n",
            "=============== Iteration 77 - increment norm 7.961e+00\n",
            "RMSE: 1.036\n",
            "rho:  0.527\n",
            "=============== Iteration 78 - increment norm 7.861e+00\n",
            "RMSE: 1.036\n",
            "rho:  0.528\n",
            "=============== Iteration 79 - increment norm 7.765e+00\n",
            "RMSE: 1.035\n",
            "rho:  0.528\n",
            "=============== Iteration 80 - increment norm 7.671e+00\n",
            "RMSE: 1.035\n",
            "rho:  0.528\n",
            "=============== Iteration 81 - increment norm 7.579e+00\n",
            "RMSE: 1.034\n",
            "rho:  0.528\n",
            "=============== Iteration 82 - increment norm 7.489e+00\n",
            "RMSE: 1.034\n",
            "rho:  0.529\n",
            "=============== Iteration 83 - increment norm 7.402e+00\n",
            "RMSE: 1.033\n",
            "rho:  0.529\n",
            "=============== Iteration 84 - increment norm 7.317e+00\n",
            "RMSE: 1.033\n",
            "rho:  0.529\n",
            "=============== Iteration 85 - increment norm 7.234e+00\n",
            "RMSE: 1.032\n",
            "rho:  0.529\n",
            "=============== Iteration 86 - increment norm 7.153e+00\n",
            "RMSE: 1.032\n",
            "rho:  0.529\n",
            "=============== Iteration 87 - increment norm 7.074e+00\n",
            "RMSE: 1.031\n",
            "rho:  0.530\n",
            "=============== Iteration 88 - increment norm 6.997e+00\n",
            "RMSE: 1.031\n",
            "rho:  0.530\n",
            "=============== Iteration 89 - increment norm 6.921e+00\n",
            "RMSE: 1.030\n",
            "rho:  0.530\n",
            "=============== Iteration 90 - increment norm 6.848e+00\n",
            "RMSE: 1.030\n",
            "rho:  0.530\n",
            "=============== Iteration 91 - increment norm 6.776e+00\n",
            "RMSE: 1.030\n",
            "rho:  0.530\n",
            "=============== Iteration 92 - increment norm 6.705e+00\n",
            "RMSE: 1.029\n",
            "rho:  0.530\n",
            "=============== Iteration 93 - increment norm 6.636e+00\n",
            "RMSE: 1.029\n",
            "rho:  0.530\n",
            "=============== Iteration 94 - increment norm 6.569e+00\n",
            "RMSE: 1.029\n",
            "rho:  0.531\n",
            "=============== Iteration 95 - increment norm 6.503e+00\n",
            "RMSE: 1.028\n",
            "rho:  0.531\n",
            "=============== Iteration 96 - increment norm 6.439e+00\n",
            "RMSE: 1.028\n",
            "rho:  0.531\n",
            "=============== Iteration 97 - increment norm 6.376e+00\n",
            "RMSE: 1.028\n",
            "rho:  0.531\n",
            "=============== Iteration 98 - increment norm 6.314e+00\n",
            "RMSE: 1.027\n",
            "rho:  0.531\n",
            "=============== Iteration 99 - increment norm 6.254e+00\n",
            "RMSE: 1.027\n",
            "rho:  0.531\n",
            "=============== Iteration 100 - increment norm 6.195e+00\n",
            "RMSE: 1.027\n",
            "rho:  0.531\n"
          ]
        }
      ],
      "source": [
        "n_max_iter = 100\n",
        "threshold = 100.0\n",
        "increment_tol = 1e-6\n",
        "\n",
        "RMSE_list = list()\n",
        "rho_list = list()\n",
        "\n",
        "A = X_full.copy()\n",
        "for i in range(n_max_iter):\n",
        "    A_old = A.copy()\n",
        "    # HOMEWORK: what happens if you use rSVD here? which is a good k?\n",
        "    U, s, VT = np.linalg.svd(A, full_matrices=False)\n",
        "\n",
        "    s[s < threshold] = 0\n",
        "    A = U @ np.diag(s) @ VT\n",
        "\n",
        "    A[rows_train, cols_train] = vals_train\n",
        "    increment = np.linalg.norm(A - A_old)\n",
        "\n",
        "    vals_predicted = A[rows_test, cols_test]\n",
        "    errors = vals_test - vals_predicted\n",
        "\n",
        "    RMSE_list.append(np.sqrt(np.mean(errors**2)))\n",
        "    rho_list.append(pearsonr(vals_test, vals_predicted)[0])\n",
        "\n",
        "    print(f\"=============== Iteration {i+1} - increment norm {increment:1.3e}\")\n",
        "    print(f\"RMSE: {RMSE_list[-1]:1.3f}\")\n",
        "    print(f\"rho:  {rho_list[-1]:1.3f}\")\n",
        "    if increment < increment_tol:\n",
        "        break"
      ]
    },
    {
      "cell_type": "code",
      "execution_count": null,
      "metadata": {
        "colab": {
          "base_uri": "https://localhost:8080/",
          "height": 939
        },
        "id": "A7gFTlv0sKzz",
        "outputId": "2ee1ad08-0cbe-456c-f7d1-d239f99d1c8c"
      },
      "outputs": [
        {
          "data": {
            "text/plain": [
              "<matplotlib.legend.Legend at 0x7dd572522810>"
            ]
          },
          "execution_count": 10,
          "metadata": {},
          "output_type": "execute_result"
        },
        {
          "data": {
            "image/png": "[encoded data removed]",
            "text/plain": [
              "<Figure size 1200x1600 with 2 Axes>"
            ]
          },
          "metadata": {},
          "output_type": "display_data"
        }
      ],
      "source": [
        "fig, axs = plt.subplots(2, 1, figsize=(12, 16))\n",
        "\n",
        "axs[0].loglog(RMSE_list, \"o-\")\n",
        "axs[0].axhline(RMSE_trivial, color=\"red\")\n",
        "axs[0].legend([\"RMSE\", \"RMSE trivial\"])\n",
        "\n",
        "axs[1].loglog(rho_list, \"o-\")\n",
        "axs[1].axhline(rho_trivial, color=\"red\")\n",
        "axs[1].legend([r\"$\\rho$\", r\"$\\rho$ trivial\"])\n"
      ]
    }
  ],
  "metadata": {
    "colab": {
      "provenance": [],
      "include_colab_link": true
    },
    "kernelspec": {
      "display_name": "Python 3",
      "language": "python",
      "name": "python3"
    },
    "language_info": {
      "codemirror_mode": {
        "name": "ipython",
        "version": 3
      },
      "file_extension": ".py",
      "mimetype": "text/x-python",
      "name": "python",
      "nbconvert_exporter": "python",
      "pygments_lexer": "ipython3",
      "version": "3.11.6"
    }
  },
  "nbformat": 4,
  "nbformat_minor": 0
}