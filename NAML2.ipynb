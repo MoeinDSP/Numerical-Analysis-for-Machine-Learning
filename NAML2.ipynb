{
  "nbformat": 4,
  "nbformat_minor": 0,
  "metadata": {
    "colab": {
      "provenance": [],
      "include_colab_link": true
    },
    "kernelspec": {
      "name": "python3",
      "display_name": "Python 3"
    },
    "language_info": {
      "name": "python"
    }
  },
  "cells": [
    {
      "cell_type": "markdown",
      "metadata": {
        "id": "view-in-github",
        "colab_type": "text"
      },
      "source": [
        "<a href=\"https://colab.research.google.com/github/MoeinDSP/Numerical-Analysis-for-Machine-Learning/blob/main/NAML2.ipynb\" target=\"_parent\"><img src=\"https://colab.research.google.com/assets/colab-badge.svg\" alt=\"Open In Colab\"/></a>"
      ]
    },
    {
      "cell_type": "markdown",
      "source": [
        "Moein Taherinezhad\n",
        "\n",
        "email: moein.taherinezhad@mail.polimi.it\n",
        "\n",
        "Subject for the emails: NAML2024\n",
        "\n",
        "# Introduction to Python"
      ],
      "metadata": {
        "id": "sz93POM5ScAa"
      }
    },
    {
      "cell_type": "markdown",
      "source": [
        "## Project 6: Fibonacci numbers"
      ],
      "metadata": {
        "id": "osOZO-bzEg78"
      }
    },
    {
      "cell_type": "markdown",
      "source": [
        "**Skills.**\n",
        "\n",
        "\n",
        "*   recursion\n",
        "*   <code>range</code> function\n",
        "* list comprehension\n",
        "* slicing\n",
        "\n"
      ],
      "metadata": {
        "id": "UO3fWg1EPdB9"
      }
    },
    {
      "cell_type": "markdown",
      "source": [
        "**Problem.** The well known Fibonacci sequence is defined by the following recursive relation:\n",
        "\n",
        "$$\n",
        "F(0)=0, \\\\\n",
        "F(1)=1, \\\\\n",
        "F(n)=F(n-1)+F(n-2).\n",
        "$$\n",
        "\n",
        "Let us write a function that computes the n*th* term of the sequence using recursion."
      ],
      "metadata": {
        "id": "4sHpvDiPEnfe"
      }
    },
    {
      "cell_type": "code",
      "source": [
        "25\n",
        "int(-25)"
      ],
      "metadata": {
        "id": "6hN5F_PQtrOW",
        "colab": {
          "base_uri": "https://localhost:8080/"
        },
        "outputId": "91f47eb8-986d-4f7a-d205-870362ffc13b"
      },
      "execution_count": 1,
      "outputs": [
        {
          "output_type": "execute_result",
          "data": {
            "text/plain": [
              "-25"
            ]
          },
          "metadata": {},
          "execution_count": 1
        }
      ]
    },
    {
      "cell_type": "code",
      "source": [
        "def recfib(n):\n",
        "   # add check for input!\n",
        "   if n <= 1:\n",
        "       return n\n",
        "   else:\n",
        "       return(recfib(n-1) + recfib(n-2))"
      ],
      "metadata": {
        "id": "_aKhjNWrEpGE"
      },
      "execution_count": 2,
      "outputs": []
    },
    {
      "cell_type": "code",
      "source": [
        "recfib(5)"
      ],
      "metadata": {
        "colab": {
          "base_uri": "https://localhost:8080/"
        },
        "id": "OiqIqAL7uv1-",
        "outputId": "d907a2db-a4af-49da-926d-154a1cef8535"
      },
      "execution_count": 3,
      "outputs": [
        {
          "output_type": "execute_result",
          "data": {
            "text/plain": [
              "5"
            ]
          },
          "metadata": {},
          "execution_count": 3
        }
      ]
    },
    {
      "cell_type": "markdown",
      "source": [
        "Let us introduce the function <code>range</code>: this function returns a sequence of numbers, starting from 0 by default, and increments by 1 (by default), and stops before a specified number.\n",
        "\n",
        "The general syntax is <code>range(start, stop, step)</code> where *start* and *step* are optional whereas *stop* is required. Let us consider some examples."
      ],
      "metadata": {
        "id": "xGLj4F-cHoXu"
      }
    },
    {
      "cell_type": "code",
      "source": [
        "R1 = range(6)\n",
        "print(R1)"
      ],
      "metadata": {
        "colab": {
          "base_uri": "https://localhost:8080/"
        },
        "id": "txxZJ3jGJgoy",
        "outputId": "67dc83f8-5895-4d65-affc-572bfee7574c"
      },
      "execution_count": 4,
      "outputs": [
        {
          "output_type": "stream",
          "name": "stdout",
          "text": [
            "range(0, 6)\n"
          ]
        }
      ]
    },
    {
      "cell_type": "code",
      "source": [
        "print(list(R1))"
      ],
      "metadata": {
        "colab": {
          "base_uri": "https://localhost:8080/"
        },
        "id": "ZEmiBiOPJmOT",
        "outputId": "f1df6270-7f5a-4a4b-ccb0-2d08e3ade234"
      },
      "execution_count": 5,
      "outputs": [
        {
          "output_type": "stream",
          "name": "stdout",
          "text": [
            "[0, 1, 2, 3, 4, 5]\n"
          ]
        }
      ]
    },
    {
      "cell_type": "code",
      "source": [
        "R2=range(10,20,2)\n",
        "print(list(R2))"
      ],
      "metadata": {
        "colab": {
          "base_uri": "https://localhost:8080/"
        },
        "id": "aHQ83aA2Jrgt",
        "outputId": "a5d9d6d9-17ab-4f01-9a4d-f5e7e0b92ece"
      },
      "execution_count": 6,
      "outputs": [
        {
          "output_type": "stream",
          "name": "stdout",
          "text": [
            "[10, 12, 14, 16, 18]\n"
          ]
        }
      ]
    },
    {
      "cell_type": "code",
      "source": [
        "R3=range(20,10,-1)\n",
        "print(list(R3))"
      ],
      "metadata": {
        "colab": {
          "base_uri": "https://localhost:8080/"
        },
        "id": "MOeg6qK6J0F2",
        "outputId": "750feeb9-8410-4483-a54c-69428fd308b2"
      },
      "execution_count": 7,
      "outputs": [
        {
          "output_type": "stream",
          "name": "stdout",
          "text": [
            "[20, 19, 18, 17, 16, 15, 14, 13, 12, 11]\n"
          ]
        }
      ]
    },
    {
      "cell_type": "markdown",
      "source": [
        "Now let us use the *list comprehension* technique to obtain the sequence up to the n*th* term.\n",
        "\n",
        "*List compehension* in Python is a concise way of creating lists from the ones that already exist."
      ],
      "metadata": {
        "id": "_WDkSoknKLg4"
      }
    },
    {
      "cell_type": "code",
      "source": [
        "F=[recfib(n) for n in range(15)]\n",
        "print(F)"
      ],
      "metadata": {
        "colab": {
          "base_uri": "https://localhost:8080/"
        },
        "id": "Z8gBBi3YEujH",
        "outputId": "ffb0dc78-3909-4e25-a420-4fcca6c20c98"
      },
      "execution_count": 8,
      "outputs": [
        {
          "output_type": "stream",
          "name": "stdout",
          "text": [
            "[0, 1, 1, 2, 3, 5, 8, 13, 21, 34, 55, 89, 144, 233, 377]\n"
          ]
        }
      ]
    },
    {
      "cell_type": "code",
      "source": [
        "type(F)"
      ],
      "metadata": {
        "colab": {
          "base_uri": "https://localhost:8080/"
        },
        "id": "0WIezKvWH6Q2",
        "outputId": "0d2aef90-2650-4ba0-8f27-6611f5876ceb"
      },
      "execution_count": 9,
      "outputs": [
        {
          "output_type": "execute_result",
          "data": {
            "text/plain": [
              "list"
            ]
          },
          "metadata": {},
          "execution_count": 9
        }
      ]
    },
    {
      "cell_type": "markdown",
      "source": [
        "Let us see how we can extract elements from the list using the *slicing* technique: in general given a Pytho list $L$ you can use the syntax\n",
        "<code>L(start:stop:step)</code>, where all parameters are optional."
      ],
      "metadata": {
        "id": "66gEd8R8KlHi"
      }
    },
    {
      "cell_type": "code",
      "source": [
        "F[1:4]  # NOTE: the 4th element is not included!"
      ],
      "metadata": {
        "id": "JApyb2GBKs9l",
        "colab": {
          "base_uri": "https://localhost:8080/"
        },
        "outputId": "c03c3d1a-dc7e-4ee7-fdf4-49b94146f706"
      },
      "execution_count": 10,
      "outputs": [
        {
          "output_type": "execute_result",
          "data": {
            "text/plain": [
              "[1, 1, 2]"
            ]
          },
          "metadata": {},
          "execution_count": 10
        }
      ]
    },
    {
      "cell_type": "code",
      "source": [
        "F[5:] # From the 5th element to the end (included)!"
      ],
      "metadata": {
        "id": "IJxGezKfLTx7"
      },
      "execution_count": null,
      "outputs": []
    },
    {
      "cell_type": "code",
      "source": [
        "F[3:11:3]"
      ],
      "metadata": {
        "id": "B_n4CZxvLxUJ",
        "colab": {
          "base_uri": "https://localhost:8080/"
        },
        "outputId": "7ddbdc89-e81a-480e-8408-7b0094848176"
      },
      "execution_count": 11,
      "outputs": [
        {
          "output_type": "execute_result",
          "data": {
            "text/plain": [
              "[2, 8, 34]"
            ]
          },
          "metadata": {},
          "execution_count": 11
        }
      ]
    },
    {
      "cell_type": "code",
      "source": [
        "F[5:10:-1]"
      ],
      "metadata": {
        "id": "K3moZm6KL_lw"
      },
      "execution_count": null,
      "outputs": []
    },
    {
      "cell_type": "code",
      "source": [
        "F[10:5:-1]"
      ],
      "metadata": {
        "id": "7nJBcD1GMDrV"
      },
      "execution_count": null,
      "outputs": []
    },
    {
      "cell_type": "code",
      "source": [
        "F[::-1] # NOTE!!!!"
      ],
      "metadata": {
        "id": "fA5AI8-RLfIn"
      },
      "execution_count": null,
      "outputs": []
    },
    {
      "cell_type": "markdown",
      "source": [
        "**Exercise.** Write a function for computing the Recaman sequence defined as follows ($n>0$):\n",
        "\n",
        "$$\n",
        "R(0)=0,\n",
        "$$\n",
        "$$\n",
        "R(n)=\n",
        "\\left\\{\n",
        "\\begin{array}R\n",
        " R(n-1) -n \\textrm{ if non negative and not already present,} \\\\\n",
        " R(n-1) +n \\textrm{ otherwise.}\n",
        "\\end{array}\n",
        "\\right.\n",
        "$$"
      ],
      "metadata": {
        "id": "8-FBaMYQND0f"
      }
    },
    {
      "cell_type": "code",
      "source": [
        "def generate_sequence(n):\n",
        "    sequence = [0]  # Start with R(0) = 0\n",
        "\n",
        "    for i in range(1, n + 1):\n",
        "        next_value = sequence[-1] - i\n",
        "        # Check if the next value is non-negative and not already in the sequence\n",
        "        if next_value >= 0 and next_value not in sequence:\n",
        "            sequence.append(next_value)\n",
        "        else:\n",
        "            # Otherwise, add the next value as R(n-1) + n\n",
        "            sequence.append(sequence[-1] + i)\n",
        "\n",
        "    return sequence\n",
        "\n",
        "# Example usage:\n",
        "n = 10  # Change n to generate a longer sequence\n",
        "sequence = generate_sequence(n)\n",
        "print(sequence)\n"
      ],
      "metadata": {
        "colab": {
          "base_uri": "https://localhost:8080/"
        },
        "id": "Ry8v5FK4Y9Rz",
        "outputId": "3b6c8c16-fdb4-4fed-bdac-f137b9d5c7ca"
      },
      "execution_count": 15,
      "outputs": [
        {
          "output_type": "stream",
          "name": "stdout",
          "text": [
            "[0, 1, 3, 6, 2, 7, 13, 20, 12, 21, 11]\n"
          ]
        }
      ]
    },
    {
      "cell_type": "markdown",
      "source": [
        "##Project 7: Computation of $\\pi$ using Monte Carlo method"
      ],
      "metadata": {
        "id": "h19u1iq3LSps"
      }
    },
    {
      "cell_type": "markdown",
      "source": [
        "**Skills.**\n",
        "\n",
        "* <code>+=</code> (and similar) operator\n",
        "* introduction of *Numpy* arrays\n",
        "* append element to a list and list concatenation\n",
        "* introduction of *Matplotlib*"
      ],
      "metadata": {
        "id": "JiUiCMvdP7Np"
      }
    },
    {
      "cell_type": "markdown",
      "source": [
        "**Problem.** Let us pick $N$ random points in a $2D$ plane within a square of side 2 centered in (0,0).\n",
        "\n",
        "Imagine a circle inscribed into the square; the idea is to use the ratio of number points that lie inside the circle ($N_{\\textrm{inside}}$) to the total number of generated points to compute $\\pi$. Why does it work ?\n",
        "\n",
        "The probability that a point falls inside the circle is directly proportional to the area of the circle *i.e.*\n",
        "\n",
        "$$\n",
        "\\frac{N_{\\textrm{inside}}}{N}=\\frac{\\textrm{Area of the circle}}{\\textrm{Area of the square}}.\n",
        "$$\n",
        "\n",
        "Moreover we know that area of the square is $4$ while that of circle is $\\pi$. The ratio of these two areas is:\n",
        "\n",
        "$$\n",
        "\\frac{\\textrm{Area of the circle}}{\\textrm{Area of the square}}=\\frac{\\pi}{4},\n",
        "$$\n",
        "\n",
        "we can compute $\\pi$ as\n",
        "\n",
        "$$\n",
        "\\pi= 4\\frac{N_{\\textrm{inside}}}{N}.\n",
        "$$"
      ],
      "metadata": {
        "id": "SyhjeXV-I3J_"
      }
    },
    {
      "cell_type": "code",
      "source": [
        "import math as mt\n",
        "import random\n",
        "\n",
        "def compute_pi_mc(N):\n",
        "  circle_points = 0\n",
        "  square_points = 0\n",
        "\n",
        "  for i in range(N):\n",
        "    # Generate a random point\n",
        "    rand_x = random.uniform(-1, 1)\n",
        "    rand_y = random.uniform(-1, 1)\n",
        "\n",
        "    # Compute the distance of the point from the origin\n",
        "    dist = mt.sqrt(rand_x**2 + rand_y**2)\n",
        "\n",
        "    # Check if the point lies inside the circle\n",
        "    if dist <= 1:\n",
        "      circle_points += 1\n",
        "\n",
        "    square_points += 1\n",
        "\n",
        "  # Estimate the value of pi\n",
        "  pi_est = 4.0 * circle_points / square_points\n",
        "\n",
        "  return pi_est"
      ],
      "metadata": {
        "id": "97BJldm7IgYp"
      },
      "execution_count": null,
      "outputs": []
    },
    {
      "cell_type": "code",
      "source": [
        "N=1000\n",
        "compute_pi_mc(N)"
      ],
      "metadata": {
        "colab": {
          "base_uri": "https://localhost:8080/"
        },
        "id": "5vK2ILveOd1n",
        "outputId": "b3ea7e52-2ec9-49e4-e6db-2b773326d2dc"
      },
      "execution_count": null,
      "outputs": [
        {
          "output_type": "execute_result",
          "data": {
            "text/plain": [
              "3.172"
            ]
          },
          "metadata": {},
          "execution_count": 11
        }
      ]
    },
    {
      "cell_type": "markdown",
      "source": [
        "Let us now try to visualize the procedure. In order to obatin this result we modify the function so that the output is given by:\n",
        "\n",
        "\n",
        "*   the estimated value of $\\pi$;\n",
        "*   the $x$ and $y$ coordinates of the points inside the circle;\n",
        "*   the $x$ and $y$ coordinates of the points outside the circle;\n",
        "*   the vector containing all the iterates of the estimated value of $\\pi$.\n",
        "\n",
        "We introduce also **Numpy** which is the module of Python that provides the implementation of *arrays*.  \n"
      ],
      "metadata": {
        "id": "ZfPSAajiOY91"
      }
    },
    {
      "cell_type": "code",
      "source": [
        "import math as mt\n",
        "import random\n",
        "import numpy as np\n",
        "\n",
        "def compute_pi_mc_g(N):\n",
        "\n",
        "  circle_points = 0\n",
        "  square_points = 0\n",
        "  x_in=[]\n",
        "  y_in=[]\n",
        "  x_out=[]\n",
        "  y_out=[]\n",
        "  vec_pi_est = np.empty([N])\n",
        "\n",
        "  for i in range(N):\n",
        "    # Generate a random point\n",
        "    rand_x = random.uniform(-1, 1)\n",
        "    rand_y = random.uniform(-1, 1)\n",
        "\n",
        "    # Compute the distance of the point from the origin\n",
        "    dist = mt.sqrt(rand_x**2 + rand_y**2)\n",
        "\n",
        "    # Check if the point lies inside the circle\n",
        "    if dist <= 1:\n",
        "      circle_points += 1\n",
        "      x_in = x_in + [rand_x]  #x_in.append(rand_x)\n",
        "      y_in = y_in + [rand_y]  #y_in.append(rand_y)\n",
        "    else:\n",
        "      x_out.append(rand_x)\n",
        "      y_out.append(rand_y)\n",
        "\n",
        "    square_points += 1\n",
        "\n",
        "    # Estimate the value of pi\n",
        "    pi_est = 4.0 * circle_points / square_points\n",
        "    vec_pi_est[i] = pi_est\n",
        "\n",
        "  return pi_est,x_in,y_in,x_out,y_out,vec_pi_est"
      ],
      "metadata": {
        "id": "eDXR7kfvO07y"
      },
      "execution_count": null,
      "outputs": []
    },
    {
      "cell_type": "code",
      "source": [
        "N=1000\n",
        "pi_est,x_in,y_in,x_out,y_out,vec_pi_est = compute_pi_mc_g(N);"
      ],
      "metadata": {
        "id": "bId_jgbVVAEf"
      },
      "execution_count": null,
      "outputs": []
    },
    {
      "cell_type": "markdown",
      "source": [
        "Now we have to plot the obtained data. The module of Python for plotting is **Matplotlib**."
      ],
      "metadata": {
        "id": "_urSjU2ABqB2"
      }
    },
    {
      "cell_type": "code",
      "source": [
        "import numpy as np\n",
        "import math as mt"
      ],
      "metadata": {
        "id": "hu6q-0MB4JqS"
      },
      "execution_count": null,
      "outputs": []
    },
    {
      "cell_type": "code",
      "source": [
        "g=np.linspace(0,10,20)\n",
        "type(g)\n",
        "np.cos(g)"
      ],
      "metadata": {
        "colab": {
          "base_uri": "https://localhost:8080/"
        },
        "id": "_bmZELvW4S5p",
        "outputId": "614b77a9-0a54-42a5-e69a-b82708b0acae"
      },
      "execution_count": null,
      "outputs": [
        {
          "output_type": "execute_result",
          "data": {
            "text/plain": [
              "array([ 1.        ,  0.8646637 ,  0.49528663, -0.00815095, -0.5093823 ,\n",
              "       -0.87273782, -0.99986712, -0.8563598 , -0.48105935,  0.02445069,\n",
              "        0.52334259,  0.88058   ,  0.99946853,  0.84782832,  0.46670422,\n",
              "       -0.04074393, -0.53716381, -0.88818817, -0.99880433, -0.83907153])"
            ]
          },
          "metadata": {},
          "execution_count": 18
        }
      ]
    },
    {
      "cell_type": "code",
      "source": [
        "l=[1,2,3,4,5]\n",
        "type(l)"
      ],
      "metadata": {
        "colab": {
          "base_uri": "https://localhost:8080/"
        },
        "id": "PKu7usyx4MNh",
        "outputId": "75e26392-2a29-4be0-f9a0-7859ca11bbad"
      },
      "execution_count": null,
      "outputs": [
        {
          "output_type": "execute_result",
          "data": {
            "text/plain": [
              "list"
            ]
          },
          "metadata": {},
          "execution_count": 19
        }
      ]
    },
    {
      "cell_type": "code",
      "source": [
        "la = np.array(l)"
      ],
      "metadata": {
        "id": "U8lxgX_NeaEa"
      },
      "execution_count": null,
      "outputs": []
    },
    {
      "cell_type": "code",
      "source": [
        "la"
      ],
      "metadata": {
        "colab": {
          "base_uri": "https://localhost:8080/"
        },
        "id": "ttSI1UDNeiTU",
        "outputId": "78300b24-6800-4d0b-f0f0-e2bccf2128ba"
      },
      "execution_count": null,
      "outputs": [
        {
          "output_type": "execute_result",
          "data": {
            "text/plain": [
              "array([1, 2, 3, 4, 5])"
            ]
          },
          "metadata": {},
          "execution_count": 21
        }
      ]
    },
    {
      "cell_type": "code",
      "source": [
        "la = np.array([[1,2],[3,4]])\n",
        "la"
      ],
      "metadata": {
        "colab": {
          "base_uri": "https://localhost:8080/"
        },
        "id": "EXKrmF9l5-CE",
        "outputId": "8e9c62d3-64ee-42ac-aeb2-e12bba56883c"
      },
      "execution_count": null,
      "outputs": [
        {
          "output_type": "execute_result",
          "data": {
            "text/plain": [
              "array([[1, 2],\n",
              "       [3, 4]])"
            ]
          },
          "metadata": {},
          "execution_count": 22
        }
      ]
    },
    {
      "cell_type": "code",
      "source": [
        "import matplotlib.pyplot as plt\n",
        "plt.rcParams['figure.figsize'] = [15, 15]\n",
        "fig, (ax1, ax2) = plt.subplots(1, 2)\n",
        "\n",
        "# Draw a unit circle centered at the origin\n",
        "angles = np.linspace(0 * np.pi, 2 * np.pi, 100 )\n",
        "xs = np.cos(angles)\n",
        "ys = np.sin(angles)\n",
        "ax1.set_aspect( 1 )\n",
        "ax1.plot(xs, ys, color = 'blue')\n",
        "# Draw the points\n",
        "x_in = np.array(x_in)\n",
        "y_in = np.array(y_in)\n",
        "x_out = np.array(x_out)\n",
        "y_out = np.array(y_out)\n",
        "ax1.scatter(x_in,y_in,c='r')\n",
        "ax1.plot(x_out,y_out,'o',c='g')\n",
        "ax1.grid()\n",
        "\n",
        "ax2.grid()\n",
        "ax2.plot(vec_pi_est)\n",
        "ax2.set_aspect( 250 )\n"
      ],
      "metadata": {
        "colab": {
          "base_uri": "https://localhost:8080/",
          "height": 310
        },
        "id": "T4ma9PyuSpDV",
        "outputId": "9c3ab4cf-801f-4950-84b7-0e266f4eea76"
      },
      "execution_count": null,
      "outputs": [
        {
          "output_type": "display_data",
          "data": {
            "text/plain": [
              "<Figure size 1500x1500 with 2 Axes>"
            ],
            "image/png": "[encoded data removed]"
          },
          "metadata": {}
        }
      ]
    },
    {
      "cell_type": "code",
      "source": [],
      "metadata": {
        "id": "UXTw29wUiPQg"
      },
      "execution_count": null,
      "outputs": []
    }
  ]
}